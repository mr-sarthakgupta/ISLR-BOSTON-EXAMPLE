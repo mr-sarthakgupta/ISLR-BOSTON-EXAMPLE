{
  "nbformat": 4,
  "nbformat_minor": 0,
  "metadata": {
    "accelerator": "GPU",
    "colab": {
      "name": "Untitled2.ipynb",
      "provenance": [],
      "collapsed_sections": []
    },
    "kernelspec": {
      "display_name": "Python 3",
      "name": "python3"
    },
    "language_info": {
      "name": "python"
    }
  },
  "cells": [
    {
      "cell_type": "markdown",
      "metadata": {
        "id": "l7VWjcuRGNgQ"
      },
      "source": [
        "DSG WORK NOTEBOOK\n",
        "\n",
        "CHAPTER 3 OF ISLR ATTEMPT IN PYTHON"
      ]
    },
    {
      "cell_type": "code",
      "metadata": {
        "colab": {
          "base_uri": "https://localhost:8080/",
          "height": 316
        },
        "id": "C2rZY-5tMCZR",
        "outputId": "f12ddbe1-a399-4d36-e073-af9f7cb4cfd7"
      },
      "source": [
        "## LAB 1 good fit\n",
        "\n",
        "import numpy as np\n",
        "import pandas as pd\n",
        "import sklearn.datasets as datasets\n",
        "import matplotlib.pyplot as plt\n",
        "import sklearn.preprocessing as preprocessing\n",
        "from sklearn.linear_model import LinearRegression\n",
        "from sklearn.model_selection import train_test_split\n",
        "from sklearn.metrics import r2_score\n",
        "from sklearn.metrics import mean_squared_error\n",
        "\n",
        "df = pd.read_csv('https://raw.githubusercontent.com/mr-sarthakgupta/ISLR-BOSTON-EXAMPLE/main/boston.csv')\n",
        "\n",
        "X = df[[\"crim\",\"zn\",\"indus\",\"chas\",\"nox\",\"rm\",\"age\",\"dis\",\"rad\",\"tax\",\"ptratio\",\"black\",\"lstat\"]]\n",
        "\n",
        "y = df[\"medv\"]\n",
        "\n",
        "lr = LinearRegression()\n",
        "\n",
        "X_train, X_test, y_train, y_test = train_test_split(X, y, test_size=0.1, random_state=42)\n",
        "\n",
        "lr.fit(X_train, y_train)\n",
        "\n",
        "l = lr.predict(X_test)\n",
        "\n",
        "k = r2_score(y_test, l)\n",
        "\n",
        "m = mean_squared_error(y_test, l)\n",
        "\n",
        "plt.figure(0)\n",
        "\n",
        "plt.scatter(l, y_test - l)\n",
        "\n",
        "print(m)\n",
        "\n",
        "print(k)\n",
        "\n",
        "print(\"sarthakk\")"
      ],
      "execution_count": null,
      "outputs": [
        {
          "output_type": "stream",
          "text": [
            "14.99585287658263\n",
            "0.7598135533532476\n",
            "sarthakk\n"
          ],
          "name": "stdout"
        },
        {
          "output_type": "display_data",
          "data": {
            "image/png": "[encoded data removed]",
            "text/plain": [
              "<Figure size 432x288 with 1 Axes>"
            ]
          },
          "metadata": {
            "tags": []
          }
        }
      ]
    },
    {
      "cell_type": "code",
      "metadata": {
        "colab": {
          "base_uri": "https://localhost:8080/",
          "height": 316
        },
        "id": "wl4vI_SZX_r6",
        "outputId": "6b6e245e-a5df-4a01-b087-3f009314d2ba"
      },
      "source": [
        "##LAB 2 good fit\n",
        "\n",
        "import numpy as np\n",
        "import pandas as pd\n",
        "import sklearn.datasets as datasets\n",
        "import matplotlib.pyplot as plt\n",
        "import sklearn.preprocessing as preprocessing\n",
        "from sklearn.linear_model import LinearRegression\n",
        "from sklearn.model_selection import train_test_split\n",
        "from sklearn.metrics import r2_score\n",
        "from sklearn.metrics import mean_squared_error\n",
        "from sklearn.preprocessing import PolynomialFeatures   \n",
        "\n",
        "df = pd.read_csv('https://raw.githubusercontent.com/mr-sarthakgupta/ISLR-BOSTON-EXAMPLE/main/boston.csv')\n",
        "\n",
        "X = df[[\"crim\",\"zn\",\"indus\",\"chas\",\"nox\",\"rm\",\"age\",\"dis\",\"rad\",\"tax\",\"ptratio\",\"black\",\"lstat\"]]\n",
        "\n",
        "y = df[\"medv\"]\n",
        "\n",
        "poly = PolynomialFeatures(2,interaction_only=False,include_bias = True)\n",
        "\n",
        "lr = LinearRegression(fit_intercept=True, normalize=True)\n",
        "\n",
        "n = poly.fit_transform(X)\n",
        "\n",
        "X_train, X_test, y_train, y_test = train_test_split(n, y, test_size=0.2, random_state=42)\n",
        "\n",
        "lr.fit(X_train, y_train)\n",
        "\n",
        "l = lr.predict(X_test)\n",
        "\n",
        "k = r2_score(y_test, l)\n",
        "\n",
        "m = mean_squared_error(y_test, l)\n",
        "\n",
        "plt.scatter(y_test, y_test - l)\n",
        "\n",
        "print (m)\n",
        "\n",
        "print(k)\n",
        "\n",
        "print(\"sarthakk\")"
      ],
      "execution_count": null,
      "outputs": [
        {
          "output_type": "stream",
          "text": [
            "14.257338168909273\n",
            "0.8055829447972191\n",
            "sarthakk\n"
          ],
          "name": "stdout"
        },
        {
          "output_type": "display_data",
          "data": {
            "image/png": "[encoded data removed]",
            "text/plain": [
              "<Figure size 432x288 with 1 Axes>"
            ]
          },
          "metadata": {
            "tags": []
          }
        }
      ]
    },
    {
      "cell_type": "code",
      "metadata": {
        "colab": {
          "base_uri": "https://localhost:8080/",
          "height": 316
        },
        "id": "K6jXNbAhdmZb",
        "outputId": "983dd0e0-0b54-420e-d3ee-bd91436dc3b0"
      },
      "source": [
        "##LAB 3 not so good fit\n",
        "\n",
        "import numpy as np\n",
        "import pandas as pd\n",
        "import sklearn.datasets as datasets\n",
        "import matplotlib.pyplot as plt\n",
        "import sklearn.preprocessing as preprocessing\n",
        "from sklearn.linear_model import LinearRegression\n",
        "from sklearn.model_selection import train_test_split\n",
        "from sklearn.metrics import r2_score\n",
        "from sklearn.metrics import mean_squared_error\n",
        "from sklearn.preprocessing import PolynomialFeatures\n",
        "from sklearn.metrics import accuracy_score \n",
        "\n",
        "df = pd.read_csv('https://raw.githubusercontent.com/mr-sarthakgupta/ISLR-BOSTON-EXAMPLE/main/Carseats.csv')\n",
        "\n",
        "X = df[[\"CompPrice\",\"Income\",\"Advertising\",\"Population\",\"Price\",\"Age\",\"Education\",\"Urban\",\"US\"]]\n",
        "\n",
        "y = df[\"Sales\"]\n",
        "\n",
        "poly = PolynomialFeatures(1,interaction_only=False,include_bias = True)\n",
        "\n",
        "n = poly.fit_transform(X)\n",
        "\n",
        "lr = LinearRegression(fit_intercept=True, normalize = True)\n",
        "\n",
        "\n",
        "X_train, X_test, y_train, y_test = train_test_split(n, y, test_size=0.1, random_state=42)\n",
        "\n",
        "lr.fit(X_train, y_train)\n",
        "\n",
        "l = lr.predict(X_test)\n",
        "\n",
        "k = r2_score(y_test, l)\n",
        "\n",
        "m = mean_squared_error(y_test, l)\n",
        "\n",
        "plt.scatter(y_test, y_test - l)\n",
        "\n",
        "print (m)\n",
        "\n",
        "print(k)\n",
        "\n",
        "print(\"sarthakk\")"
      ],
      "execution_count": null,
      "outputs": [
        {
          "output_type": "stream",
          "text": [
            "4.537005124619249\n",
            "0.5875582992895003\n",
            "sarthakk\n"
          ],
          "name": "stdout"
        },
        {
          "output_type": "display_data",
          "data": {
            "image/png": "[encoded data removed]",
            "text/plain": [
              "<Figure size 432x288 with 1 Axes>"
            ]
          },
          "metadata": {
            "tags": []
          }
        }
      ]
    },
    {
      "cell_type": "markdown",
      "metadata": {
        "id": "nEsl7WU8uS0i"
      },
      "source": [
        "EXERCISES START HERE\n",
        "\n",
        "doubts:- 11: d,          14: f\n",
        "\n",
        "\n",
        "              \n",
        "          "
      ]
    },
    {
      "cell_type": "code",
      "metadata": {
        "id": "-7NFahc6AsrY"
      },
      "source": [
        "def summary(X, y, y_predict, lr):\n",
        "  from scipy import stats\n",
        "  from sklearn.metrics import r2_score \n",
        "  from sklearn.metrics import mean_squared_error\n",
        "\n",
        "  n = X.shape[0] \n",
        "  p = X.shape[1] \n",
        "  R2 = r2_score(y,y_predict) \n",
        "  adjusted_r2 = 1- (1-R2)*((n-1)/(n-p-1)) \n",
        "  RMSE = mean_squared_error(y,y_predict)**(1/2) \n",
        "  print(\"RMSE = \", RMSE) \n",
        "  print(\"R2 Score = \", R2)\n",
        "  print(\"Adjusted R2 =\" ,adjusted_r2) \n",
        "\n",
        "  weights = np.append(lr.intercept_,lr.coef_)\n",
        "\n",
        "  #newX = pd.DataFrame({\"Constant\":np.ones(len(X))}).join(pd.DataFrame(X))\n",
        "  #MSE = (mean_squared_error(y, y_predict_tot))/(len(newX)-len(newX.columns))\n",
        "\n",
        "  # Note if you don't want to use a DataFrame replace the two lines above with\n",
        "  newX = np.append(np.ones((len(X),1)), X, axis=1)\n",
        "  MSE = (sum((y-y_predict)**2))/(newX.shape[0]-newX.shape[1])\n",
        "\n",
        "\n",
        "  var_b = MSE*(np.linalg.pinv(np.dot(newX.T,newX)).diagonal())\n",
        "  sd_b = np.sqrt(var_b)\n",
        "  ts_b = weights/ sd_b\n",
        "\n",
        "  p_values =[2.0*(1.0-stats.t.cdf(np.abs(i),(newX.shape[0]-newX.shape[1]))) for i in ts_b]\n",
        "\n",
        "  sd_b = np.round(sd_b,3)\n",
        "  ts_b = np.round(ts_b,3)\n",
        "  p_values = np.round(p_values,100)\n",
        "  weights = np.round(weights,4)\n",
        "\n",
        "  myDF3 = pd.DataFrame()\n",
        "  myDF3[\"Coefficients\"],myDF3[\"Standard Errors\"],myDF3[\"t values\"],myDF3[\"Probabilities\"] = [weights,sd_b,ts_b,p_values]\n",
        "  print(myDF3)\n",
        "\n",
        "  interval_95 = pd.DataFrame(np.column_stack((weights-2*sd_b, weights+2*sd_b)), columns=['LowerBound', 'UpperBound'])\n",
        "  print('95 per intervals')\n",
        "  print(interval_95)\n",
        "  return"
      ],
      "execution_count": null,
      "outputs": []
    },
    {
      "cell_type": "code",
      "metadata": {
        "colab": {
          "base_uri": "https://localhost:8080/",
          "height": 802
        },
        "id": "iEnA7qoFctpB",
        "outputId": "6a4b5cd6-ae64-426f-9779-3dba1bea6c7d"
      },
      "source": [
        "## EXERCISE 8 \n",
        "\n",
        "import numpy as np\n",
        "import pandas as pd\n",
        "import sklearn.datasets as datasets\n",
        "import matplotlib.pyplot as plt\n",
        "import sklearn.preprocessing as preprocessing\n",
        "from sklearn.linear_model import LinearRegression\n",
        "from sklearn.model_selection import train_test_split\n",
        "from sklearn.metrics import r2_score\n",
        "from sklearn.metrics import mean_squared_error\n",
        "from sklearn.preprocessing import PolynomialFeatures\n",
        "import scipy.stats as st\n",
        "\n",
        "df = pd.read_csv('https://raw.githubusercontent.com/mr-sarthakgupta/ISLR-BOSTON-EXAMPLE/main/Auto.csv')\n",
        "\n",
        "X = df[['horsepower']]\n",
        "\n",
        "y = df['mpg']\n",
        "\n",
        "lr = LinearRegression(fit_intercept=True, normalize=True)\n",
        "\n",
        "X_train, X_test, y_train, y_test = train_test_split(X, y, test_size=0.1, random_state=42)\n",
        "\n",
        "lr.fit(X_train, y_train)\n",
        "\n",
        "u = lr.predict(X_train)\n",
        "\n",
        "l = lr.predict(X_test)\n",
        "\n",
        "k = r2_score(y_test, l)\n",
        "\n",
        "m = mean_squared_error(y_test, l)\n",
        "\n",
        "f = np.array([[98]])\n",
        "\n",
        "print(\"the prediction for horsepower = 98 is\",lr.predict(f))\n",
        "\n",
        "g = lr.predict(f)\n",
        "\n",
        "plt.figure(0)\n",
        "\n",
        "plt.scatter(X, y)\n",
        "\n",
        "plt.plot(X_test, l, color =\"red\")\n",
        "\n",
        "plt.figure(1)\n",
        "\n",
        "plt.scatter(y_test, y_test - l)\n",
        "\n",
        "print(m)\n",
        "\n",
        "print(k)\n",
        "\n",
        "dk = pd.DataFrame(df, columns = [\"horsepower\", \"mpg\"])\n",
        "\n",
        "corr = dk.corr()\n",
        "\n",
        "print(corr)\n",
        "\n",
        "y_predict = lr.predict(X)\n",
        "\n",
        "summary(X,y,y_predict,lr)\n",
        "\n",
        "print(\"sarthakk\")"
      ],
      "execution_count": null,
      "outputs": [
        {
          "output_type": "stream",
          "text": [
            "the prediction for horsepower = 98 is [24.53198762]\n",
            "20.998084626703957\n",
            "0.6470954259844197\n",
            "            horsepower       mpg\n",
            "horsepower    1.000000 -0.778427\n",
            "mpg          -0.778427  1.000000\n",
            "RMSE =  4.893675436963486\n",
            "R2 Score =  0.6058759052626548\n",
            "Adjusted R2 = 0.6048653306607641\n",
            "   Coefficients  Standard Errors  t values  Probabilities\n",
            "0       39.9844            0.718    55.722            0.0\n",
            "1       -0.1577            0.006   -24.461            0.0\n",
            "95 per intervals\n",
            "   LowerBound  UpperBound\n",
            "0     38.5484     41.4204\n",
            "1     -0.1697     -0.1457\n",
            "sarthakk\n"
          ],
          "name": "stdout"
        },
        {
          "output_type": "display_data",
          "data": {
            "image/png": "[encoded data removed]",
            "text/plain": [
              "<Figure size 432x288 with 1 Axes>"
            ]
          },
          "metadata": {
            "tags": [],
            "needs_background": "light"
          }
        },
        {
          "output_type": "display_data",
          "data": {
            "image/png": "[encoded data removed]",
            "text/plain": [
              "<Figure size 432x288 with 1 Axes>"
            ]
          },
          "metadata": {
            "tags": [],
            "needs_background": "light"
          }
        }
      ]
    },
    {
      "cell_type": "code",
      "metadata": {
        "colab": {
          "base_uri": "https://localhost:8080/",
          "height": 853
        },
        "id": "VQ9yd2QmFHdt",
        "outputId": "e2213250-de32-4fa3-8e5b-4eb3ad018b0d"
      },
      "source": [
        "lr = LinearRegression(fit_intercept=True, normalize=True)\n",
        "\n",
        "poly = PolynomialFeatures(2,interaction_only=False,include_bias = True)\n",
        "\n",
        "n = poly.fit_transform(X)\n",
        "\n",
        "X_train, X_test, y_train, y_test = train_test_split(n, y, test_size=0.15, random_state=42)\n",
        "\n",
        "lr.fit(X_train, y_train)\n",
        "\n",
        "u = lr.predict(X_train)\n",
        "\n",
        "l = lr.predict(X_test)\n",
        "\n",
        "k = r2_score(y_test, l)\n",
        "\n",
        "m = mean_squared_error(y_test, l)\n",
        "\n",
        "plt.figure(0)\n",
        "\n",
        "plt.scatter(X, y)\n",
        "\n",
        "plt.plot(X_test, l, color =\"red\")\n",
        "\n",
        "plt.figure(1)\n",
        "\n",
        "plt.scatter(y_test, y_test - l)\n",
        "\n",
        "print(m)\n",
        "\n",
        "print(k)\n",
        "\n",
        "dk = pd.DataFrame(df, columns = [\"horsepower\", \"mpg\"])\n",
        "\n",
        "corr = dk.corr()\n",
        "\n",
        "print(corr)\n",
        "\n",
        "y_predict = lr.predict(n)\n",
        "\n",
        "summary(n,y,y_predict,lr)\n",
        "\n",
        "print(\"sarthakk\")"
      ],
      "execution_count": null,
      "outputs": [
        {
          "output_type": "stream",
          "text": [
            "19.48331181817744\n",
            "0.667084454536051\n",
            "            horsepower       mpg\n",
            "horsepower    1.000000 -0.778427\n",
            "mpg          -0.778427  1.000000\n",
            "RMSE =  4.359359305811192\n",
            "R2 Score =  0.687242312569506\n",
            "Adjusted R2 = 0.6848240830275176\n",
            "   Coefficients  Standard Errors  t values  Probabilities\n",
            "0       57.6401            0.902    63.915            0.0\n",
            "1        0.0000            0.902     0.000            1.0\n",
            "2       -0.4769            0.031   -15.296            0.0\n",
            "3        0.0013            0.000    10.391            0.0\n",
            "95 per intervals\n",
            "   LowerBound  UpperBound\n",
            "0     55.8361     59.4441\n",
            "1     -1.8040      1.8040\n",
            "2     -0.5389     -0.4149\n",
            "3      0.0013      0.0013\n",
            "sarthakk\n"
          ],
          "name": "stdout"
        },
        {
          "output_type": "display_data",
          "data": {
            "image/png": "[encoded data removed]",
            "text/plain": [
              "<Figure size 432x288 with 1 Axes>"
            ]
          },
          "metadata": {
            "tags": [],
            "needs_background": "light"
          }
        },
        {
          "output_type": "display_data",
          "data": {
            "image/png": "[encoded data removed]",
            "text/plain": [
              "<Figure size 432x288 with 1 Axes>"
            ]
          },
          "metadata": {
            "tags": [],
            "needs_background": "light"
          }
        }
      ]
    },
    {
      "cell_type": "markdown",
      "metadata": {
        "id": "8g-5lHPs13Nl"
      },
      "source": [
        "a) i) As seen from the correlation matrix and also from the plot, there is certainly a relationship between the predictor and the response.\n",
        "\n",
        "ii) The relationship between the predictor and\n",
        "the response is moderately to highly strong as the correlation value is approximately -0.778.\n",
        "\n",
        "iii) The relationship between the predictor and response is negative.\n",
        "\n",
        "iv) 24.53198762 95% confidence intervals are: [21.9178, 27.1418].\n",
        "\n",
        "c) On the right and left of the figure, the curve is \"bending\" but the linear model is not able to express it."
      ]
    },
    {
      "cell_type": "code",
      "metadata": {
        "colab": {
          "base_uri": "https://localhost:8080/",
          "height": 333
        },
        "id": "GT_noQ6gvfMb",
        "outputId": "db43a8cd-cbca-456e-f18e-a55ee20e7271"
      },
      "source": [
        "## EXERCISE 9  \n",
        "import scipy.stats as st\n",
        "import numpy as np\n",
        "import pandas as pd\n",
        "import sklearn.datasets as datasets\n",
        "import matplotlib.pyplot as plt\n",
        "import sklearn.preprocessing as preprocessing\n",
        "from sklearn.linear_model import LinearRegression\n",
        "from sklearn.model_selection import train_test_split\n",
        "from sklearn.metrics import r2_score\n",
        "from sklearn.metrics import mean_squared_error\n",
        "from sklearn.preprocessing import PolynomialFeatures\n",
        "\n",
        "df = pd.read_csv('https://raw.githubusercontent.com/mr-sarthakgupta/ISLR-BOSTON-EXAMPLE/main/Auto.csv')\n",
        "\n",
        "newname = pd.get_dummies(df['name'])\n",
        "\n",
        "s = df[['horsepower', 'cylinders','displacement','weight','year','origin','acceleration']]\n",
        "\n",
        "X = np.hstack((s, newname))\n",
        "\n",
        "y = df['mpg']\n",
        "\n",
        "poly = PolynomialFeatures(2,interaction_only=False,include_bias = True)\n",
        "\n",
        "n = poly.fit_transform(s)\n",
        "\n",
        "lr = LinearRegression(fit_intercept=True, normalize=True)\n",
        "\n",
        "X_train, X_test, y_train, y_test = train_test_split(n, y, test_size=0.1, random_state=42)\n",
        "\n",
        "lr.fit(X_train, y_train)\n",
        "\n",
        "l = lr.predict(X_test)\n",
        "\n",
        "k = r2_score(y_test, l)\n",
        "\n",
        "m = mean_squared_error(y_test, l)\n",
        "\n",
        "plt.scatter(y_test, y_test-l)\n",
        "\n",
        "print(m)\n",
        "\n",
        "print(st.t.interval(alpha=0.95, df=len(l)-1))\n",
        "\n",
        "print(k)\n",
        "\n",
        "print(\"sarthakk\")"
      ],
      "execution_count": null,
      "outputs": [
        {
          "output_type": "stream",
          "text": [
            "5.85103125\n",
            "(-2.022690911734728, 2.022690911734728)\n",
            "0.9016645695290153\n",
            "sarthakk\n"
          ],
          "name": "stdout"
        },
        {
          "output_type": "display_data",
          "data": {
            "image/png": "[encoded data removed]",
            "text/plain": [
              "<Figure size 432x288 with 1 Axes>"
            ]
          },
          "metadata": {
            "tags": [],
            "needs_background": "light"
          }
        }
      ]
    },
    {
      "cell_type": "code",
      "metadata": {
        "colab": {
          "base_uri": "https://localhost:8080/"
        },
        "id": "0aUwSTZdbtgV",
        "outputId": "2d329375-a2ef-47cf-ce4b-03d2c1ba89a8"
      },
      "source": [
        "lr.fit(s,y)\n",
        "\n",
        "y_predict = lr.predict(s)\n",
        "\n",
        "summary(s,y,y_predict,lr)"
      ],
      "execution_count": null,
      "outputs": [
        {
          "output_type": "stream",
          "text": [
            "RMSE =  3.293551418302203\n",
            "R2 Score =  0.8214780764810599\n",
            "Adjusted R2 = 0.8182237705835792\n",
            "   Coefficients  Standard Errors  t values  Probabilities\n",
            "0      -17.2184            4.644    -3.707   2.401841e-04\n",
            "1       -0.0170            0.014    -1.230   2.196328e-01\n",
            "2       -0.4934            0.323    -1.526   1.277965e-01\n",
            "3        0.0199            0.008     2.647   8.444649e-03\n",
            "4       -0.0065            0.001    -9.929   0.000000e+00\n",
            "5        0.7508            0.051    14.729   0.000000e+00\n",
            "6        1.4261            0.278     5.127   4.665681e-07\n",
            "7        0.0806            0.099     0.815   4.154780e-01\n",
            "95 per intervals\n",
            "   LowerBound  UpperBound\n",
            "0    -26.5064     -7.9304\n",
            "1     -0.0450      0.0110\n",
            "2     -1.1394      0.1526\n",
            "3      0.0039      0.0359\n",
            "4     -0.0085     -0.0045\n",
            "5      0.6488      0.8528\n",
            "6      0.8701      1.9821\n",
            "7     -0.1174      0.2786\n"
          ],
          "name": "stdout"
        }
      ]
    },
    {
      "cell_type": "code",
      "metadata": {
        "colab": {
          "base_uri": "https://localhost:8080/",
          "height": 1000
        },
        "id": "_iI29vMXyQzH",
        "outputId": "dac6ea1f-6cfa-49f5-ef2c-efb2707a5c1c"
      },
      "source": [
        "dk = pd.DataFrame(df, columns = ['mpg','horsepower', 'cylinders','displacement','weight','year','origin','acceleration'])\n",
        "\n",
        "corr = dk.corr()\n",
        "\n",
        "print(corr)\n",
        "\n",
        "plt.figure(0)\n",
        "\n",
        "plt.scatter(df['horsepower'], df['mpg'])\n",
        "\n",
        "plt.figure(1)\n",
        "\n",
        "plt.scatter(df['cylinders'], df['mpg'])\n",
        "\n",
        "plt.figure(2)\n",
        "\n",
        "plt.scatter(df['displacement'], df['mpg'])\n",
        "\n",
        "plt.figure(3)\n",
        "\n",
        "plt.scatter(df['weight'], df['mpg'])\n",
        "\n",
        "plt.figure(4)\n",
        "\n",
        "plt.scatter(df['acceleration'], df['mpg'])\n",
        "\n",
        "plt.figure(5)\n",
        "\n",
        "plt.scatter(df['year'], df['mpg'])\n",
        "\n",
        "plt.figure(6)\n",
        "\n",
        "plt.scatter(df['origin'] , df['mpg'])\n",
        "\n",
        "plt.figure(7)\n",
        "\n",
        "plt.scatter(df['name'], df['mpg'])\n",
        "\n",
        "plt.figure(8)"
      ],
      "execution_count": null,
      "outputs": [
        {
          "output_type": "stream",
          "text": [
            "                   mpg  horsepower  cylinders  ...      year    origin  acceleration\n",
            "mpg           1.000000   -0.778427  -0.777618  ...  0.580541  0.565209      0.423329\n",
            "horsepower   -0.778427    1.000000   0.842983  ... -0.416361 -0.455171     -0.689196\n",
            "cylinders    -0.777618    0.842983   1.000000  ... -0.345647 -0.568932     -0.504683\n",
            "displacement -0.805127    0.897257   0.950823  ... -0.369855 -0.614535     -0.543800\n",
            "weight       -0.832244    0.864538   0.897527  ... -0.309120 -0.585005     -0.416839\n",
            "year          0.580541   -0.416361  -0.345647  ...  1.000000  0.181528      0.290316\n",
            "origin        0.565209   -0.455171  -0.568932  ...  0.181528  1.000000      0.212746\n",
            "acceleration  0.423329   -0.689196  -0.504683  ...  0.290316  0.212746      1.000000\n",
            "\n",
            "[8 rows x 8 columns]\n"
          ],
          "name": "stdout"
        },
        {
          "output_type": "execute_result",
          "data": {
            "text/plain": [
              "<Figure size 432x288 with 0 Axes>"
            ]
          },
          "metadata": {
            "tags": []
          },
          "execution_count": 30
        },
        {
          "output_type": "display_data",
          "data": {
            "image/png": "[encoded data removed]",
            "text/plain": [
              "<Figure size 432x288 with 1 Axes>"
            ]
          },
          "metadata": {
            "tags": [],
            "needs_background": "light"
          }
        },
        {
          "output_type": "display_data",
          "data": {
            "image/png": "[encoded data removed]",
            "text/plain": [
              "<Figure size 432x288 with 1 Axes>"
            ]
          },
          "metadata": {
            "tags": [],
            "needs_background": "light"
          }
        },
        {
          "output_type": "display_data",
          "data": {
            "image/png": "[encoded data removed]",
            "text/plain": [
              "<Figure size 432x288 with 1 Axes>"
            ]
          },
          "metadata": {
            "tags": [],
            "needs_background": "light"
          }
        },
        {
          "output_type": "display_data",
          "data": {
            "image/png": "[encoded data removed]",
            "text/plain": [
              "<Figure size 432x288 with 1 Axes>"
            ]
          },
          "metadata": {
            "tags": [],
            "needs_background": "light"
          }
        },
        {
          "output_type": "display_data",
          "data": {
            "image/png": "[encoded data removed]",
            "text/plain": [
              "<Figure size 432x288 with 1 Axes>"
            ]
          },
          "metadata": {
            "tags": [],
            "needs_background": "light"
          }
        },
        {
          "output_type": "display_data",
          "data": {
            "image/png": "[encoded data removed]",
            "text/plain": [
              "<Figure size 432x288 with 1 Axes>"
            ]
          },
          "metadata": {
            "tags": [],
            "needs_background": "light"
          }
        },
        {
          "output_type": "display_data",
          "data": {
            "image/png": "[encoded data removed]",
            "text/plain": [
              "<Figure size 432x288 with 1 Axes>"
            ]
          },
          "metadata": {
            "tags": [],
            "needs_background": "light"
          }
        },
        {
          "output_type": "display_data",
          "data": {
            "image/png": "[encoded data removed]",
            "text/plain": [
              "<Figure size 432x288 with 1 Axes>"
            ]
          },
          "metadata": {
            "tags": [],
            "needs_background": "light"
          }
        },
        {
          "output_type": "display_data",
          "data": {
            "text/plain": [
              "<Figure size 432x288 with 0 Axes>"
            ]
          },
          "metadata": {
            "tags": []
          }
        }
      ]
    },
    {
      "cell_type": "markdown",
      "metadata": {
        "id": "UklujpHD8mzT"
      },
      "source": [
        "c) i) Yes there is a relationship between the predictors and the response.\n",
        "\n",
        "ii) The most statistically significant predictors appear to be displacement and weight.\n",
        "\n",
        "iii) The coefficient of year suggest a moderate positive correlation between year and mpg.\n",
        "\n",
        "d) The residual plot suggest that there is an outlier in the top right corner of the scatter.\n",
        "\n",
        "f) I tried some functions like x^2, x^3, exp(-x) and log(x) on the predictors whose predictor-response plots seemed to look like the shapes of the aforementioned functions but that didn't seem to help with improving the r2 score metric."
      ]
    },
    {
      "cell_type": "code",
      "metadata": {
        "colab": {
          "base_uri": "https://localhost:8080/",
          "height": 1000
        },
        "id": "HrXU4dQ01NIK",
        "outputId": "594614b1-9839-42dd-bde6-7283882fe70e"
      },
      "source": [
        "## EXERCISE 10\n",
        "import scipy.stats as st\n",
        "import numpy as np\n",
        "import pandas as pd\n",
        "import sklearn.datasets as datasets\n",
        "import matplotlib.pyplot as plt\n",
        "import sklearn.preprocessing as preprocessing\n",
        "from sklearn.linear_model import LinearRegression\n",
        "from sklearn.model_selection import train_test_split\n",
        "from sklearn.metrics import r2_score\n",
        "from sklearn.metrics import mean_squared_error\n",
        "from sklearn.preprocessing import PolynomialFeatures\n",
        "\n",
        "df = pd.read_csv('https://raw.githubusercontent.com/mr-sarthakgupta/ISLR-BOSTON-EXAMPLE/main/Carseats.csv')\n",
        "\n",
        "print(pd.get_dummies(df[\"Urban\"]))\n",
        "\n",
        "print(pd.get_dummies(df[\"US\"]))\n",
        "\n",
        "a = pd.get_dummies(df[\"Urban\"])\n",
        "\n",
        "b = pd.get_dummies(df[\"US\"])\n",
        "\n",
        "k = df[[\"Price\"]]\n",
        "\n",
        "m = np.hstack((a, b))\n",
        "\n",
        "X = np.hstack((m, k))\n",
        "\n",
        "y = df[\"Sales\"]\n",
        "\n",
        "lr = LinearRegression(fit_intercept=True, normalize = True)\n",
        "\n",
        "X_train, X_test, y_train, y_test = train_test_split(X, y, test_size=0.6, random_state=42)\n",
        "\n",
        "lr.fit(X_train, y_train)\n",
        "\n",
        "l = lr.predict(X_test)\n",
        "\n",
        "p = lr.predict(X_train)\n",
        "\n",
        "k = r2_score(y_test, l)\n",
        "\n",
        "w = r2_score(y_train, p)\n",
        "\n",
        "m = mean_squared_error(y_test, l)\n",
        "\n",
        "plt.figure(0)\n",
        "\n",
        "plt.scatter(y_test, y_test - l)\n",
        "\n",
        "plt.figure(1)\n",
        "\n",
        "plt.scatter(df[\"Price\"],y)\n",
        "\n",
        "plt.figure(2)\n",
        "\n",
        "plt.scatter(df[\"Urban\"],y)\n",
        "\n",
        "plt.figure(3)\n",
        "\n",
        "plt.scatter(df[\"US\"],y)\n",
        "\n",
        "print (m)\n",
        "\n",
        "print(\"R2 SCORE ON TRAING AND TEST RESPECTIVELY\")\n",
        "\n",
        "print(w)\n",
        "\n",
        "print(k)\n",
        "\n",
        "print(lr.coef_)\n",
        "\n",
        "lr.fit(X,y)\n",
        "\n",
        "y_predict = lr.predict(X)\n",
        "\n",
        "summary(X,y,y_predict,lr)\n",
        "\n",
        "print(\"sarthakk\")"
      ],
      "execution_count": null,
      "outputs": [
        {
          "output_type": "stream",
          "text": [
            "     -1   1\n",
            "0     0   1\n",
            "1     0   1\n",
            "2     0   1\n",
            "3     0   1\n",
            "4     0   1\n",
            "..   ..  ..\n",
            "395   0   1\n",
            "396   1   0\n",
            "397   0   1\n",
            "398   0   1\n",
            "399   0   1\n",
            "\n",
            "[400 rows x 2 columns]\n",
            "     -1   1\n",
            "0     0   1\n",
            "1     0   1\n",
            "2     0   1\n",
            "3     0   1\n",
            "4     1   0\n",
            "..   ..  ..\n",
            "395   0   1\n",
            "396   0   1\n",
            "397   0   1\n",
            "398   0   1\n",
            "399   0   1\n",
            "\n",
            "[400 rows x 2 columns]\n",
            "5.943695969125345\n",
            "R2 SCORE ON TRAING AND TEST RESPECTIVELY\n",
            "0.23184553563953914\n",
            "0.2234585897139224\n",
            "[-0.1532393   0.1532393  -0.44776747  0.44776747 -0.05404569]\n",
            "RMSE =  2.4601150143966657\n",
            "R2 Score =  0.2392654363447584\n",
            "Adjusted R2 = 0.22961144442019943\n",
            "   Coefficients  Standard Errors      t values  Probabilities\n",
            "0 -6.242681e+12            0.310 -2.013676e+13            0.0\n",
            "1  9.877530e+10            0.211  4.686797e+11            0.0\n",
            "2  9.877530e+10            0.202  4.894749e+11            0.0\n",
            "3  6.143906e+12            0.202  3.035430e+13            0.0\n",
            "4  6.143906e+12            0.202  3.041387e+13            0.0\n",
            "5 -5.440000e-02            0.005 -1.035900e+01            0.0\n",
            "95 per intervals\n",
            "     LowerBound    UpperBound\n",
            "0 -6.242681e+12 -6.242681e+12\n",
            "1  9.877530e+10  9.877530e+10\n",
            "2  9.877530e+10  9.877530e+10\n",
            "3  6.143906e+12  6.143906e+12\n",
            "4  6.143906e+12  6.143906e+12\n",
            "5 -6.440000e-02 -4.440000e-02\n",
            "sarthakk\n"
          ],
          "name": "stdout"
        },
        {
          "output_type": "display_data",
          "data": {
            "image/png": "[encoded data removed]",
            "text/plain": [
              "<Figure size 432x288 with 1 Axes>"
            ]
          },
          "metadata": {
            "tags": [],
            "needs_background": "light"
          }
        },
        {
          "output_type": "display_data",
          "data": {
            "image/png": "[encoded data removed]",
            "text/plain": [
              "<Figure size 432x288 with 1 Axes>"
            ]
          },
          "metadata": {
            "tags": [],
            "needs_background": "light"
          }
        },
        {
          "output_type": "display_data",
          "data": {
            "image/png": "[encoded data removed]",
            "text/plain": [
              "<Figure size 432x288 with 1 Axes>"
            ]
          },
          "metadata": {
            "tags": [],
            "needs_background": "light"
          }
        },
        {
          "output_type": "display_data",
          "data": {
            "image/png": "[encoded data removed]",
            "text/plain": [
              "<Figure size 432x288 with 1 Axes>"
            ]
          },
          "metadata": {
            "tags": [],
            "needs_background": "light"
          }
        }
      ]
    },
    {
      "cell_type": "markdown",
      "metadata": {
        "id": "FJhFgQHA1Z7D"
      },
      "source": [
        "b) For the first coefficient -0.1532393, it indicates a negative correlation between the price and sales, the coefficients for the dummies for Urban indicate positive correlation between no and sales and negative correlation between yes and sales. The coefficients for dummies for US indicate a positive correlation between no and sales and negative correlation between yes and sales.\n",
        "\n",
        "y = -0.1532393*(price) + (0.1532393  -0.44776747)*(urban dummy vector) + (0.44776747 -0.05404569)*(US dummy vector)\n"
      ]
    },
    {
      "cell_type": "code",
      "metadata": {
        "colab": {
          "base_uri": "https://localhost:8080/",
          "height": 520
        },
        "id": "PP3F8B7ILb6g",
        "outputId": "d2f0cd84-c231-44eb-cb7f-4f4b7a4234f2"
      },
      "source": [
        "## EXERCISE 11\n",
        "\n",
        "import numpy as np\n",
        "import pandas as pd\n",
        "import sklearn.datasets as datasets\n",
        "import matplotlib.pyplot as plt\n",
        "import sklearn.preprocessing as preprocessing\n",
        "from sklearn.linear_model import LinearRegression\n",
        "from sklearn.model_selection import train_test_split\n",
        "from sklearn.metrics import r2_score\n",
        "from sklearn.metrics import mean_squared_error\n",
        "from sklearn.preprocessing import PolynomialFeatures\n",
        "\n",
        "np.random.seed(4385)\n",
        "\n",
        "X = np.random.rand(100)\n",
        "\n",
        "np.random.seed(1)\n",
        "\n",
        "y = 2*X + np.random.rand(100)\n",
        "\n",
        "a = X.reshape(-1, 1)\n",
        "\n",
        "b = y.reshape(-1, 1)\n",
        "\n",
        "lr = LinearRegression(fit_intercept=False, normalize = True, )\n",
        "\n",
        "X_train, X_test, y_train, y_test = train_test_split(a, b, test_size=0.6, random_state=42)\n",
        "\n",
        "lr.fit(X_train, y_train)\n",
        "\n",
        "l = lr.predict(X_test)\n",
        "\n",
        "p = lr.predict(X_train)\n",
        "\n",
        "k = r2_score(y_test, l)\n",
        "\n",
        "w = r2_score(y_train, p)\n",
        "\n",
        "m = mean_squared_error(y_test, l)\n",
        "\n",
        "plt.figure(0)\n",
        "\n",
        "plt.scatter(y_test, y_test - l)\n",
        "\n",
        "print(\"R2 SCORE ON TRAING AND TEST RESPECTIVELY\")\n",
        "\n",
        "print(w)\n",
        "\n",
        "print(k)\n",
        "\n",
        "print(m)\n",
        "\n",
        "lr.fit(a,b)\n",
        "\n",
        "y_predict = lr.predict(a)\n",
        "\n",
        "summary(a,b,y_predict,lr)\n",
        "\n",
        "## t-statistic, p-value remaining \n",
        "\n",
        "print(\"sarthakk\")"
      ],
      "execution_count": null,
      "outputs": [
        {
          "output_type": "stream",
          "text": [
            "R2 SCORE ON TRAING AND TEST RESPECTIVELY\n",
            "0.6457756648329722\n",
            "0.6622431732721609\n",
            "0.12934273962000292\n",
            "RMSE =  0.3732847181015768\n",
            "R2 Score =  0.6592091685463028\n",
            "Adjusted R2 = 0.6557317110824896\n",
            "   Coefficients  Standard Errors  t values  Probabilities\n",
            "0        0.0000            0.076     0.000            1.0\n",
            "1        2.7669            0.136    20.349            0.0\n",
            "95 per intervals\n",
            "   LowerBound  UpperBound\n",
            "0     -0.1520      0.1520\n",
            "1      2.4949      3.0389\n",
            "sarthakk\n"
          ],
          "name": "stdout"
        },
        {
          "output_type": "display_data",
          "data": {
            "image/png": "[encoded data removed]",
            "text/plain": [
              "<Figure size 432x288 with 1 Axes>"
            ]
          },
          "metadata": {
            "tags": [],
            "needs_background": "light"
          }
        }
      ]
    },
    {
      "cell_type": "code",
      "metadata": {
        "colab": {
          "base_uri": "https://localhost:8080/",
          "height": 524
        },
        "id": "Dy6lIcgzSqYH",
        "outputId": "bb3e45c4-2b16-4d2e-94d3-158670bd36af"
      },
      "source": [
        "import numpy as np\n",
        "import pandas as pd\n",
        "import sklearn.datasets as datasets\n",
        "import matplotlib.pyplot as plt\n",
        "import sklearn.preprocessing as preprocessing\n",
        "from sklearn.linear_model import LinearRegression\n",
        "from sklearn.model_selection import train_test_split\n",
        "from sklearn.metrics import r2_score\n",
        "from sklearn.metrics import mean_squared_error\n",
        "from sklearn.preprocessing import PolynomialFeatures\n",
        "\n",
        "np.random.seed(4385)\n",
        "\n",
        "X = np.random.rand(100)\n",
        "\n",
        "np.random.seed(1)\n",
        "\n",
        "y = 2*X + np.random.rand(100)\n",
        "\n",
        "a = X.reshape(-1, 1)\n",
        "\n",
        "b = y.reshape(-1, 1)\n",
        "\n",
        "lr = LinearRegression(fit_intercept=False, normalize = True, )\n",
        "\n",
        "X_train, X_test, y_train, y_test = train_test_split(b, a, test_size=0.6, random_state=42)\n",
        "\n",
        "lr.fit(X_train, y_train)\n",
        "\n",
        "l = lr.predict(X_test)\n",
        "\n",
        "p = lr.predict(X_train)\n",
        "\n",
        "k = r2_score(y_test, l)\n",
        "\n",
        "w = r2_score(y_train, p)\n",
        "\n",
        "m = mean_squared_error(y_test, l)\n",
        "\n",
        "plt.figure(0)\n",
        "\n",
        "plt.scatter(y_test, y_test - l)\n",
        "\n",
        "print(\"R2 SCORE ON TRAING AND TEST RESPECTIVELY\")\n",
        "\n",
        "print(w)\n",
        "\n",
        "print(k)\n",
        "\n",
        "print(m)\n",
        "\n",
        "lr.fit(b,a)\n",
        "\n",
        "y_predict = lr.predict(b)\n",
        "\n",
        "summary(b,a,y_predict,lr)\n",
        "\n",
        "## t-statistic, p-value remaining \n",
        "\n",
        "print(\"sarthakk\")"
      ],
      "execution_count": null,
      "outputs": [
        {
          "output_type": "stream",
          "text": [
            "R2 SCORE ON TRAING AND TEST RESPECTIVELY\n",
            "0.7773793503317077\n",
            "0.7690257725000981\n",
            "0.016798054315524173\n",
            "RMSE =  0.1311407299371815\n",
            "R2 Score =  0.7763832450645486\n",
            "Adjusted R2 = 0.7741014414427583\n",
            "   Coefficients  Standard Errors  t values  Probabilities\n",
            "0        0.0000            0.033     0.000            1.0\n",
            "1        0.3415            0.021    16.484            0.0\n",
            "95 per intervals\n",
            "   LowerBound  UpperBound\n",
            "0     -0.0660      0.0660\n",
            "1      0.2995      0.3835\n",
            "sarthakk\n"
          ],
          "name": "stdout"
        },
        {
          "output_type": "display_data",
          "data": {
            "image/png": "[encoded data removed]",
            "text/plain": [
              "<Figure size 432x288 with 1 Axes>"
            ]
          },
          "metadata": {
            "tags": [],
            "needs_background": "light"
          }
        }
      ]
    },
    {
      "cell_type": "markdown",
      "metadata": {
        "id": "1eu5iwH6SjeI"
      },
      "source": [
        "e) here the entire given expression in part d remains the same if we interchange xi and yi, hence it would remain same for both cases."
      ]
    },
    {
      "cell_type": "code",
      "metadata": {
        "colab": {
          "base_uri": "https://localhost:8080/",
          "height": 350
        },
        "id": "Z1yFBNwN4lKH",
        "outputId": "8b50eaca-3b56-4b91-c1e6-5be79d323ed8"
      },
      "source": [
        "## EXERCISE 12\n",
        "\n",
        "import numpy as np\n",
        "import pandas as pd\n",
        "import sklearn.datasets as datasets\n",
        "import matplotlib.pyplot as plt\n",
        "import sklearn.preprocessing as preprocessing\n",
        "from sklearn.linear_model import LinearRegression\n",
        "from sklearn.model_selection import train_test_split\n",
        "from sklearn.metrics import r2_score\n",
        "from sklearn.metrics import mean_squared_error\n",
        "from sklearn.preprocessing import PolynomialFeatures\n",
        "\n",
        "np.random.seed(19380)\n",
        "\n",
        "X = np.random.rand(100)\n",
        "\n",
        "np.random.seed(1)\n",
        "\n",
        "y = 16*X + np.random.rand(100)\n",
        "\n",
        "a = X.reshape(-1, 1)\n",
        "\n",
        "b = y.reshape(-1, 1)\n",
        "\n",
        "lr = LinearRegression(fit_intercept=False, normalize = True, )\n",
        "\n",
        "X_train, X_test, y_train, y_test = train_test_split(a, b, test_size=0.6, random_state=42)\n",
        "\n",
        "lr.fit(X_train, y_train)\n",
        "\n",
        "l = lr.predict(X_test)\n",
        "\n",
        "p = lr.predict(X_train)\n",
        "\n",
        "k = r2_score(y_test, l)\n",
        "\n",
        "w = r2_score(y_train, p)\n",
        "\n",
        "m = mean_squared_error(y_test, l)\n",
        "\n",
        "plt.figure(0)\n",
        "\n",
        "plt.scatter(y_test, y_test - l)\n",
        "\n",
        "print(\"R2 SCORE ON TRAING AND TEST RESPECTIVELY\")\n",
        "\n",
        "print(w)\n",
        "\n",
        "print(k)\n",
        "\n",
        "print(m)\n",
        "\n",
        "print(lr.coef_)"
      ],
      "execution_count": null,
      "outputs": [
        {
          "output_type": "stream",
          "text": [
            "R2 SCORE ON TRAING AND TEST RESPECTIVELY\n",
            "0.992633795633622\n",
            "0.9942393321098769\n",
            "0.12739248896900032\n",
            "[[16.77552356]]\n"
          ],
          "name": "stdout"
        },
        {
          "output_type": "display_data",
          "data": {
            "image/png": "[encoded data removed]",
            "text/plain": [
              "<Figure size 432x288 with 1 Axes>"
            ]
          },
          "metadata": {
            "tags": []
          }
        }
      ]
    },
    {
      "cell_type": "code",
      "metadata": {
        "colab": {
          "base_uri": "https://localhost:8080/",
          "height": 435
        },
        "id": "rZjXVvxw9UTr",
        "outputId": "0d21aa66-3152-4bf1-faf4-503edadd5a60"
      },
      "source": [
        "## regression of x on y and of y on x\n",
        "\n",
        "import numpy as np\n",
        "import pandas as pd\n",
        "import sklearn.datasets as datasets\n",
        "import matplotlib.pyplot as plt\n",
        "import sklearn.preprocessing as preprocessing\n",
        "from sklearn.linear_model import LinearRegression\n",
        "from sklearn.model_selection import train_test_split\n",
        "from sklearn.metrics import r2_score\n",
        "from sklearn.metrics import mean_squared_error\n",
        "from sklearn.preprocessing import PolynomialFeatures\n",
        "\n",
        "np.random.seed(1938073)\n",
        "\n",
        "X = np.random.rand(100)\n",
        "\n",
        "np.random.seed(1)\n",
        "\n",
        "y = X + 0.01*np.random.rand(100)\n",
        "\n",
        "a = X.reshape(-1, 1)\n",
        "\n",
        "b = y.reshape(-1, 1)\n",
        "\n",
        "lr = LinearRegression(fit_intercept=False, normalize = True)\n",
        "\n",
        "X_train, X_test, y_train, y_test = train_test_split(a, b, test_size=0.4, random_state=42)\n",
        "\n",
        "lr.fit(X_train, y_train)\n",
        "\n",
        "l = lr.predict(X_test)\n",
        "\n",
        "p = lr.predict(X_train)\n",
        "\n",
        "k = r2_score(y_test, l)\n",
        "\n",
        "w = r2_score(y_train, p)\n",
        "\n",
        "m = mean_squared_error(y_test, l)\n",
        "\n",
        "plt.figure(0)\n",
        "\n",
        "plt.scatter(y_test, y_test - l)\n",
        "\n",
        "print(\"R2 SCORE ON TRAING AND TEST RESPECTIVELY\")\n",
        "\n",
        "print(w)\n",
        "\n",
        "print(k)\n",
        "\n",
        "print(m)\n",
        "\n",
        "print(lr.coef_)\n",
        "\n",
        "x_train, x_test, Y_train, Y_test = train_test_split(b, a, test_size=0.4, random_state=42)\n",
        "\n",
        "kr = LinearRegression(fit_intercept=False, normalize = True)\n",
        "\n",
        "kr.fit(x_train, Y_train)\n",
        "\n",
        "d = kr.predict(X_test)\n",
        "\n",
        "q = kr.predict(X_train)\n",
        "\n",
        "h = r2_score(Y_test, d)\n",
        "\n",
        "g = r2_score(Y_train, q)\n",
        "\n",
        "me = mean_squared_error(Y_test, d)\n",
        "\n",
        "plt.figure(0)\n",
        "\n",
        "plt.scatter(Y_test, Y_test - d)\n",
        "\n",
        "print(\"R2 SCORE ON TRAING AND TEST RESPECTIVELY\")\n",
        "\n",
        "print(g)\n",
        "\n",
        "print(h)\n",
        "\n",
        "print(me)\n",
        "\n",
        "print(kr.coef_)\n"
      ],
      "execution_count": null,
      "outputs": [
        {
          "output_type": "stream",
          "text": [
            "R2 SCORE ON TRAING AND TEST RESPECTIVELY\n",
            "0.9998217095272006\n",
            "0.9998823170432564\n",
            "9.242288469804944e-06\n",
            "[[1.0073533]]\n",
            "R2 SCORE ON TRAING AND TEST RESPECTIVELY\n",
            "0.999757139606804\n",
            "0.9997615088325287\n",
            "1.8619577254455688e-05\n",
            "[[0.99266169]]\n"
          ],
          "name": "stdout"
        },
        {
          "output_type": "display_data",
          "data": {
            "image/png": "[encoded data removed]",
            "text/plain": [
              "<Figure size 432x288 with 1 Axes>"
            ]
          },
          "metadata": {
            "tags": []
          }
        }
      ]
    },
    {
      "cell_type": "markdown",
      "metadata": {
        "id": "CQSLDN3gYPpM"
      },
      "source": [
        "the coefficients will be same when \n",
        "summation of (xi)^2 = summation of (yi)^2 "
      ]
    },
    {
      "cell_type": "code",
      "metadata": {
        "colab": {
          "base_uri": "https://localhost:8080/",
          "height": 785
        },
        "id": "9h38XD2NBPz9",
        "outputId": "351d5498-feb2-4c94-c180-c3cf77568779"
      },
      "source": [
        "## EXERCISE 13\n",
        "\n",
        "import numpy as np\n",
        "import pandas as pd\n",
        "import sklearn.datasets as datasets\n",
        "import matplotlib.pyplot as plt\n",
        "import sklearn.preprocessing as preprocessing\n",
        "from sklearn.linear_model import LinearRegression\n",
        "from sklearn.model_selection import train_test_split\n",
        "from sklearn.metrics import r2_score\n",
        "from sklearn.metrics import mean_squared_error\n",
        "from sklearn.preprocessing import PolynomialFeatures\n",
        "\n",
        "np.random.seed(1)\n",
        "\n",
        "X = np.random.normal(0, 1, 100)\n",
        "\n",
        "a = X.reshape(-1, 1)\n",
        "\n",
        "eps = np.random.normal(0, 0.1, 100)\n",
        "\n",
        "Y = -1 + 0.5*X + eps\n",
        "\n",
        "b = Y.reshape(-1, 1)\n",
        "\n",
        "lr = LinearRegression(fit_intercept=True, normalize = True)\n",
        "\n",
        "poly = PolynomialFeatures(2,interaction_only=False, include_bias = True)\n",
        "\n",
        "n = poly.fit_transform(a)\n",
        "\n",
        "X_train, X_test, y_train, y_test = train_test_split(a, b, test_size=0.4, random_state=42)\n",
        "\n",
        "lr.fit(X_train, y_train)\n",
        "\n",
        "l = lr.predict(X_test)\n",
        "\n",
        "p = lr.predict(X_train)\n",
        "\n",
        "k = r2_score(y_test, l)\n",
        "\n",
        "w = r2_score(y_train, p)\n",
        "\n",
        "m = mean_squared_error(y_test, l)\n",
        "\n",
        "plt.figure(0)\n",
        "\n",
        "plt.scatter(X, Y)\n",
        "\n",
        "plt.plot(X_test, l, color = \"red\")\n",
        "\n",
        "plt.plot(X, -1 + 0.5*X, color = \"green\")\n",
        "\n",
        "plt.figure(1)\n",
        "\n",
        "plt.scatter(y_test, y_test - l)\n",
        "\n",
        "print(\"R2 SCORE ON TRAING AND TEST RESPECTIVELY\")\n",
        "\n",
        "print(w)\n",
        "\n",
        "print(k)\n",
        "\n",
        "print(m)\n",
        "\n",
        "print(lr.coef_)\n",
        "\n",
        "print(\"confidence interval is  \")\n",
        "\n",
        "lr.fit(a,b)\n",
        "\n",
        "y_predict = lr.predict(a)\n",
        "\n",
        "summary(a,b,y_predict,lr)"
      ],
      "execution_count": null,
      "outputs": [
        {
          "output_type": "stream",
          "text": [
            "R2 SCORE ON TRAING AND TEST RESPECTIVELY\n",
            "0.9596804168505664\n",
            "0.9582191739550949\n",
            "0.00968035279037063\n",
            "[[0.5100443]]\n",
            "confidence interval is  \n",
            "RMSE =  0.09281592052012812\n",
            "R2 Score =  0.9593715053005198\n",
            "Adjusted R2 = 0.9589569288239945\n",
            "   Coefficients  Standard Errors  t values  Probabilities\n",
            "0       -0.9853            0.009  -104.844            0.0\n",
            "1        0.5095            0.011    48.105            0.0\n",
            "95 per intervals\n",
            "   LowerBound  UpperBound\n",
            "0     -1.0033     -0.9673\n",
            "1      0.4875      0.5315\n"
          ],
          "name": "stdout"
        },
        {
          "output_type": "display_data",
          "data": {
            "image/png": "[encoded data removed]",
            "text/plain": [
              "<Figure size 432x288 with 1 Axes>"
            ]
          },
          "metadata": {
            "tags": []
          }
        },
        {
          "output_type": "display_data",
          "data": {
            "image/png": "[encoded data removed]",
            "text/plain": [
              "<Figure size 432x288 with 1 Axes>"
            ]
          },
          "metadata": {
            "tags": []
          }
        }
      ]
    },
    {
      "cell_type": "code",
      "metadata": {
        "colab": {
          "base_uri": "https://localhost:8080/",
          "height": 785
        },
        "id": "CWZA1DEjD0fu",
        "outputId": "3c393915-ff8a-4dc0-f8a5-6aef5b0bd46f"
      },
      "source": [
        "## HIGH NOISE\n",
        "\n",
        "import numpy as np\n",
        "import pandas as pd\n",
        "import sklearn.datasets as datasets\n",
        "import matplotlib.pyplot as plt\n",
        "import sklearn.preprocessing as preprocessing\n",
        "from sklearn.linear_model import LinearRegression\n",
        "from sklearn.model_selection import train_test_split\n",
        "from sklearn.metrics import r2_score\n",
        "from sklearn.metrics import mean_squared_error\n",
        "from sklearn.preprocessing import PolynomialFeatures\n",
        "\n",
        "np.random.seed(1)\n",
        "\n",
        "X = np.random.normal(0, 1, 100)\n",
        "\n",
        "a = X.reshape(-1, 1)\n",
        "\n",
        "eps = np.random.normal(0, 0.1, 100)\n",
        "\n",
        "Y = -1 + 0.5*X + 10*eps\n",
        "\n",
        "b = Y.reshape(-1, 1)\n",
        "\n",
        "lr = LinearRegression(fit_intercept=True, normalize = True)\n",
        "\n",
        "poly = PolynomialFeatures(2,interaction_only=False, include_bias = True)\n",
        "\n",
        "n = poly.fit_transform(a)\n",
        "\n",
        "X_train, X_test, y_train, y_test = train_test_split(a, b, test_size=0.4, random_state=42)\n",
        "\n",
        "lr.fit(X_train, y_train)\n",
        "\n",
        "l = lr.predict(X_test)\n",
        "\n",
        "p = lr.predict(X_train)\n",
        "\n",
        "k = r2_score(y_test, l)\n",
        "\n",
        "w = r2_score(y_train, p)\n",
        "\n",
        "m = mean_squared_error(y_test, l)\n",
        "\n",
        "plt.figure(0)\n",
        "\n",
        "plt.scatter(X, Y)\n",
        "\n",
        "plt.plot(X_test, l, color = \"red\")\n",
        "\n",
        "plt.plot(X, -1 + 0.5*X, color = \"green\")\n",
        "\n",
        "plt.figure(1)\n",
        "\n",
        "plt.scatter(y_test, y_test - l)\n",
        "\n",
        "print(\"R2 SCORE ON TRAING AND TEST RESPECTIVELY\")\n",
        "\n",
        "print(w)\n",
        "\n",
        "print(k)\n",
        "\n",
        "print(m)\n",
        "\n",
        "print(lr.coef_)\n",
        "\n",
        "print(\"confidence interval is  \")\n",
        "\n",
        "lr.fit(a,b)\n",
        "\n",
        "y_predict = lr.predict(a)\n",
        "\n",
        "summary(a,b,y_predict,lr)"
      ],
      "execution_count": null,
      "outputs": [
        {
          "output_type": "stream",
          "text": [
            "R2 SCORE ON TRAING AND TEST RESPECTIVELY\n",
            "0.24804490161681636\n",
            "0.23665597789670678\n",
            "0.9680352790370634\n",
            "[[0.60044302]]\n",
            "confidence interval is  \n",
            "RMSE =  0.9281592052012811\n",
            "R2 Score =  0.2438233943025615\n",
            "Adjusted R2 = 0.23610730648932243\n",
            "   Coefficients  Standard Errors  t values  Probabilities\n",
            "0       -0.8530            0.094    -9.076   1.221245e-14\n",
            "1        0.5954            0.106     5.621   1.785033e-07\n",
            "95 per intervals\n",
            "   LowerBound  UpperBound\n",
            "0     -1.0410     -0.6650\n",
            "1      0.3834      0.8074\n"
          ],
          "name": "stdout"
        },
        {
          "output_type": "display_data",
          "data": {
            "image/png": "[encoded data removed]",
            "text/plain": [
              "<Figure size 432x288 with 1 Axes>"
            ]
          },
          "metadata": {
            "tags": [],
            "needs_background": "light"
          }
        },
        {
          "output_type": "display_data",
          "data": {
            "image/png": "[encoded data removed]",
            "text/plain": [
              "<Figure size 432x288 with 1 Axes>"
            ]
          },
          "metadata": {
            "tags": [],
            "needs_background": "light"
          }
        }
      ]
    },
    {
      "cell_type": "code",
      "metadata": {
        "colab": {
          "base_uri": "https://localhost:8080/",
          "height": 785
        },
        "id": "3oR7gR9VECn7",
        "outputId": "dbb172ce-39ac-4838-cf11-84e3cc7ede21"
      },
      "source": [
        "## LOW NOISE\n",
        "\n",
        "import numpy as np\n",
        "import pandas as pd\n",
        "import sklearn.datasets as datasets\n",
        "import matplotlib.pyplot as plt\n",
        "import sklearn.preprocessing as preprocessing\n",
        "from sklearn.linear_model import LinearRegression\n",
        "from sklearn.model_selection import train_test_split\n",
        "from sklearn.metrics import r2_score\n",
        "from sklearn.metrics import mean_squared_error\n",
        "from sklearn.preprocessing import PolynomialFeatures\n",
        "\n",
        "np.random.seed(1)\n",
        "\n",
        "X = np.random.normal(0, 1, 100)\n",
        "\n",
        "a = X.reshape(-1, 1)\n",
        "\n",
        "eps = np.random.normal(0, 0.1, 100)\n",
        "\n",
        "Y = -1 + 0.5*X + 0.1*eps\n",
        "\n",
        "b = Y.reshape(-1, 1)\n",
        "\n",
        "lr = LinearRegression(fit_intercept=True, normalize = True)\n",
        "\n",
        "poly = PolynomialFeatures(2,interaction_only=False, include_bias = True)\n",
        "\n",
        "n = poly.fit_transform(a)\n",
        "\n",
        "X_train, X_test, y_train, y_test = train_test_split(a, b, test_size=0.4, random_state=42)\n",
        "\n",
        "lr.fit(X_train, y_train)\n",
        "\n",
        "l = lr.predict(X_test)\n",
        "\n",
        "p = lr.predict(X_train)\n",
        "\n",
        "k = r2_score(y_test, l)\n",
        "\n",
        "w = r2_score(y_train, p)\n",
        "\n",
        "m = mean_squared_error(y_test, l)\n",
        "\n",
        "plt.figure(0)\n",
        "\n",
        "plt.scatter(X, Y)\n",
        "\n",
        "plt.plot(X_test, l, color = \"red\")\n",
        "\n",
        "plt.plot(X, -1 + 0.5*X, color = \"green\")\n",
        "\n",
        "plt.figure(1)\n",
        "\n",
        "plt.scatter(y_test, y_test - l)\n",
        "\n",
        "print(\"R2 SCORE ON TRAING AND TEST RESPECTIVELY\")\n",
        "\n",
        "print(w)\n",
        "\n",
        "print(k)\n",
        "\n",
        "print(m)\n",
        "\n",
        "print(lr.coef_)\n",
        "\n",
        "print(\"confidence interval is  \")\n",
        "\n",
        "lr.fit(a,b)\n",
        "\n",
        "y_predict = lr.predict(a)\n",
        "\n",
        "summary(a,b,y_predict,lr)"
      ],
      "execution_count": null,
      "outputs": [
        {
          "output_type": "stream",
          "text": [
            "R2 SCORE ON TRAING AND TEST RESPECTIVELY\n",
            "0.9995647557895219\n",
            "0.9995489387257999\n",
            "9.680352790370689e-05\n",
            "[[0.50100443]]\n",
            "confidence interval is  \n",
            "RMSE =  0.00928159205201281\n",
            "R2 Score =  0.9995620558784128\n",
            "Adjusted R2 = 0.9995575870608456\n",
            "   Coefficients  Standard Errors  t values  Probabilities\n",
            "0       -0.9985            0.001 -1062.519            0.0\n",
            "1        0.5010            0.001   472.943            0.0\n",
            "95 per intervals\n",
            "   LowerBound  UpperBound\n",
            "0     -1.0005     -0.9965\n",
            "1      0.4990      0.5030\n"
          ],
          "name": "stdout"
        },
        {
          "output_type": "display_data",
          "data": {
            "image/png": "[encoded data removed]",
            "text/plain": [
              "<Figure size 432x288 with 1 Axes>"
            ]
          },
          "metadata": {
            "tags": [],
            "needs_background": "light"
          }
        },
        {
          "output_type": "display_data",
          "data": {
            "image/png": "[encoded data removed]",
            "text/plain": [
              "<Figure size 432x288 with 1 Axes>"
            ]
          },
          "metadata": {
            "tags": [],
            "needs_background": "light"
          }
        }
      ]
    },
    {
      "cell_type": "markdown",
      "metadata": {
        "id": "McesBdueYl9t"
      },
      "source": [
        "the predicted coefficients are quite similar to the actual coefficients and including polynomial term won't help much as the model generating the data is linear only.\n",
        "\n",
        "Reducing noise results in smaller confidence intervals as it becomes much easier to predict the target variable as its correlation with the predictor is much higher. And we see opposite of these results when we increase the noise. "
      ]
    },
    {
      "cell_type": "code",
      "metadata": {
        "colab": {
          "base_uri": "https://localhost:8080/",
          "height": 554
        },
        "id": "aWgJQ6FllLeA",
        "outputId": "f2353868-eca0-40ea-b37a-9eb96c7752aa"
      },
      "source": [
        "## EXERCISE 14\n",
        "\n",
        "import numpy as np\n",
        "import pandas as pd\n",
        "import sklearn.datasets as datasets\n",
        "import matplotlib.pyplot as plt\n",
        "import sklearn.preprocessing as preprocessing\n",
        "from sklearn.linear_model import LinearRegression\n",
        "from sklearn.model_selection import train_test_split\n",
        "from sklearn.metrics import r2_score\n",
        "from sklearn.metrics import mean_squared_error\n",
        "from sklearn.preprocessing import PolynomialFeatures\n",
        "\n",
        "np.random.seed(1)\n",
        "\n",
        "x1 = np.random.uniform(low = -100, high = 100, size = 100)\n",
        "\n",
        "x2 = 0.5*x1 + np.random.normal(0, 0.1, 100)\n",
        "\n",
        "y = 2 + 2*x1 + 0.3*x2 + np.random.normal(0, 0.1, 100)\n",
        "\n",
        "a = x1.reshape(-1, 1)\n",
        "\n",
        "b = x2.reshape(-1, 1)\n",
        "\n",
        "c = y.reshape(-1, 1)\n",
        "\n",
        "d = np.hstack((a, b, c))\n",
        "\n",
        "lr = LinearRegression(fit_intercept=True, normalize = True)\n",
        "\n",
        "X_train, X_test, y_train, y_test = train_test_split(d, c, test_size=0.4, random_state=42)\n",
        "\n",
        "lr.fit(X_train, y_train)\n",
        "\n",
        "l = lr.predict(X_test)\n",
        "\n",
        "p = lr.predict(X_train)\n",
        "\n",
        "k = r2_score(y_test, l)\n",
        "\n",
        "w = r2_score(y_train, p)\n",
        "\n",
        "plt.figure(0)\n",
        "\n",
        "plt.scatter(x1, x2)\n",
        "\n",
        "m = mean_squared_error(y_test, l)\n",
        "\n",
        "print(w)\n",
        "\n",
        "print(k)\n",
        "\n",
        "print(m)\n",
        "\n",
        "dk = pd.DataFrame(d)\n",
        "\n",
        "corr = dk.corr()\n",
        "\n",
        "print(corr)\n",
        "\n",
        "lr.fit(a,b)\n",
        "\n",
        "y_predict = lr.predict(a)\n",
        "\n",
        "summary(a,b,y_predict,lr)"
      ],
      "execution_count": null,
      "outputs": [
        {
          "output_type": "stream",
          "text": [
            "1.0\n",
            "1.0\n",
            "7.56990924650083e-27\n",
            "          0         1         2\n",
            "0  1.000000  0.999995  1.000000\n",
            "1  0.999995  1.000000  0.999996\n",
            "2  1.000000  0.999996  1.000000\n",
            "RMSE =  0.08942940599160647\n",
            "R2 Score =  0.9999907668437167\n",
            "Adjusted R2 = 0.9999906726278363\n",
            "   Coefficients  Standard Errors  t values  Probabilities\n",
            "0        0.0079            0.009     0.878       0.382017\n",
            "1        0.4998            0.000  3257.886       0.000000\n",
            "95 per intervals\n",
            "   LowerBound  UpperBound\n",
            "0     -0.0101      0.0259\n",
            "1      0.4998      0.4998\n"
          ],
          "name": "stdout"
        },
        {
          "output_type": "display_data",
          "data": {
            "image/png": "[encoded data removed]",
            "text/plain": [
              "<Figure size 432x288 with 1 Axes>"
            ]
          },
          "metadata": {
            "tags": []
          }
        }
      ]
    },
    {
      "cell_type": "code",
      "metadata": {
        "colab": {
          "base_uri": "https://localhost:8080/",
          "height": 554
        },
        "id": "qb1uzZM3xUwu",
        "outputId": "6ec7c1be-715f-4b5e-c3f2-877351c8093c"
      },
      "source": [
        "import numpy as np\n",
        "import pandas as pd\n",
        "import sklearn.datasets as datasets\n",
        "import matplotlib.pyplot as plt\n",
        "import sklearn.preprocessing as preprocessing\n",
        "from sklearn.linear_model import LinearRegression\n",
        "from sklearn.model_selection import train_test_split\n",
        "from sklearn.metrics import r2_score\n",
        "from sklearn.metrics import mean_squared_error\n",
        "from sklearn.preprocessing import PolynomialFeatures\n",
        "\n",
        "np.random.seed(1)\n",
        "\n",
        "x1 = np.random.uniform(low = -100, high = 100, size = 100)\n",
        "\n",
        "t = np.append(x1, [0.1])\n",
        "\n",
        "x2 = 0.5*x1 + np.random.normal(-0.1, 0.1, 100)\n",
        "\n",
        "u = np.append(x2, [0.8])\n",
        "\n",
        "y = 2 + 2*t + 0.3*u + np.random.normal(-0.1, 0.1, 101)\n",
        "\n",
        "a = t.reshape(-1, 1)\n",
        "\n",
        "b = u.reshape(-1, 1)\n",
        "\n",
        "c = y.reshape(-1, 1)\n",
        "\n",
        "d = np.hstack((a, b, c))\n",
        "\n",
        "lr = LinearRegression(fit_intercept=True, normalize = True)\n",
        "\n",
        "X_train, X_test, y_train, y_test = train_test_split(d, c, test_size=0.4, random_state=42)\n",
        "\n",
        "lr.fit(X_train, y_train)\n",
        "\n",
        "l = lr.predict(X_test)\n",
        "\n",
        "p = lr.predict(X_train)\n",
        "\n",
        "k = r2_score(y_test, l)\n",
        "\n",
        "w = r2_score(y_train, p)\n",
        "\n",
        "plt.figure(0)\n",
        "\n",
        "plt.scatter(t, u)\n",
        "\n",
        "m = mean_squared_error(y_test, l)\n",
        "\n",
        "print(w)\n",
        "\n",
        "print(k)\n",
        "\n",
        "print(m)\n",
        "\n",
        "dk = pd.DataFrame(d)\n",
        "\n",
        "corr = dk.corr()\n",
        "\n",
        "print(corr)\n",
        "\n",
        "lr.fit(a,b)\n",
        "\n",
        "y_predict = lr.predict(a)\n",
        "\n",
        "summary(a,b,y_predict,lr)"
      ],
      "execution_count": null,
      "outputs": [
        {
          "output_type": "stream",
          "text": [
            "1.0\n",
            "1.0\n",
            "5.503170636861312e-27\n",
            "          0         1         2\n",
            "0  1.000000  0.999991  1.000000\n",
            "1  0.999991  1.000000  0.999992\n",
            "2  1.000000  0.999992  1.000000\n",
            "RMSE =  0.12194026633186977\n",
            "R2 Score =  0.9999826628063794\n",
            "Adjusted R2 = 0.9999824876832115\n",
            "   Coefficients  Standard Errors  t values  Probabilities\n",
            "0       -0.0837            0.012    -6.822   7.217571e-10\n",
            "1        0.4998            0.000  2389.596   0.000000e+00\n",
            "95 per intervals\n",
            "   LowerBound  UpperBound\n",
            "0     -0.1077     -0.0597\n",
            "1      0.4998      0.4998\n"
          ],
          "name": "stdout"
        },
        {
          "output_type": "display_data",
          "data": {
            "image/png": "[encoded data removed]",
            "text/plain": [
              "<Figure size 432x288 with 1 Axes>"
            ]
          },
          "metadata": {
            "tags": [],
            "needs_background": "light"
          }
        }
      ]
    },
    {
      "cell_type": "markdown",
      "metadata": {
        "id": "r3zWT9N7TeSi"
      },
      "source": [
        "the correlation between x1 and x2 is 0.999995.\n",
        "\n",
        "because of so high correlations, we can reject the null hypothesis.\n",
        "\n",
        "g) These do not seem to form outliers."
      ]
    },
    {
      "cell_type": "code",
      "metadata": {
        "colab": {
          "base_uri": "https://localhost:8080/",
          "height": 639
        },
        "id": "R1RKEk3LLSfv",
        "outputId": "1253cc7c-1493-453b-f5c9-fe49dd639aa8"
      },
      "source": [
        "## EXERCISE 15\n",
        "\n",
        "import numpy as np\n",
        "import pandas as pd\n",
        "import sklearn.datasets as datasets\n",
        "import matplotlib.pyplot as plt\n",
        "import sklearn.preprocessing as preprocessing\n",
        "from sklearn.linear_model import LinearRegression\n",
        "from sklearn.model_selection import train_test_split\n",
        "from sklearn.metrics import r2_score\n",
        "from sklearn.metrics import mean_squared_error\n",
        "from sklearn.preprocessing import PolynomialFeatures\n",
        "\n",
        "df = pd.read_csv('https://raw.githubusercontent.com/mr-sarthakgupta/ISLR-BOSTON-EXAMPLE/main/boston.csv')\n",
        "\n",
        "X = df[[\"medv\",\"zn\",\"indus\",\"chas\",\"nox\",\"rm\",\"age\",\"dis\",\"rad\",\"tax\",\"ptratio\",\"black\",\"lstat\"]]\n",
        "\n",
        "y = df[\"crim\"]\n",
        "\n",
        "lr = LinearRegression()\n",
        "\n",
        "poly = PolynomialFeatures(2,interaction_only=True,include_bias = True)\n",
        "\n",
        "n = poly.fit_transform(X)\n",
        "\n",
        "X_train, X_test, y_train, y_test = train_test_split(n, y, test_size=0.09, random_state=42)\n",
        "\n",
        "lr.fit(X_train, y_train)\n",
        "\n",
        "l = lr.predict(X_test)\n",
        "\n",
        "p = lr.predict(X_train)\n",
        "\n",
        "k = r2_score(y_test, l)\n",
        "\n",
        "w = r2_score(y_train, p)\n",
        "\n",
        "m = mean_squared_error(y_test, l)\n",
        "\n",
        "print(\"R2 SCORE ON TRAING AND TEST RESPECTIVELY\")\n",
        "\n",
        "plt.scatter(l, y_test - l)\n",
        "\n",
        "print(w)\n",
        "\n",
        "print(k)\n",
        "\n",
        "print(m)\n",
        "\n",
        "dk = pd.DataFrame(df, columns = [\"crim\",\"indus\",\"nox\",\"rm\",\"age\",\"dis\",\"rad\",\"tax\",\"black\",\"lstat\",\"medv\",\"zn\",\"chas\",\"ptratio\"])\n",
        "\n",
        "corr = dk.corr()\n",
        "\n",
        "print(corr)\n",
        "\n",
        "print(\"sarthakk\")"
      ],
      "execution_count": null,
      "outputs": [
        {
          "output_type": "stream",
          "text": [
            "R2 SCORE ON TRAING AND TEST RESPECTIVELY\n",
            "0.6483575063935333\n",
            "0.775426138342634\n",
            "12.881506105708741\n",
            "             crim     indus       nox  ...        zn      chas   ptratio\n",
            "crim     1.000000  0.406583  0.420972  ... -0.200469 -0.055892  0.289946\n",
            "indus    0.406583  1.000000  0.763651  ... -0.533828  0.062938  0.383248\n",
            "nox      0.420972  0.763651  1.000000  ... -0.516604  0.091203  0.188933\n",
            "rm      -0.219247 -0.391676 -0.302188  ...  0.311991  0.091251 -0.355501\n",
            "age      0.352734  0.644779  0.731470  ... -0.569537  0.086518  0.261515\n",
            "dis     -0.379670 -0.708027 -0.769230  ...  0.664408 -0.099176 -0.232471\n",
            "rad      0.625505  0.595129  0.611441  ... -0.311948 -0.007368  0.464741\n",
            "tax      0.582764  0.720760  0.668023  ... -0.314563 -0.035587  0.460853\n",
            "black   -0.385064 -0.356977 -0.380051  ...  0.175520  0.048788 -0.177383\n",
            "lstat    0.455621  0.603800  0.590879  ... -0.412995 -0.053929  0.374044\n",
            "medv    -0.388305 -0.483725 -0.427321  ...  0.360445  0.175260 -0.507787\n",
            "zn      -0.200469 -0.533828 -0.516604  ...  1.000000 -0.042697 -0.391679\n",
            "chas    -0.055892  0.062938  0.091203  ... -0.042697  1.000000 -0.121515\n",
            "ptratio  0.289946  0.383248  0.188933  ... -0.391679 -0.121515  1.000000\n",
            "\n",
            "[14 rows x 14 columns]\n",
            "sarthakk\n"
          ],
          "name": "stdout"
        },
        {
          "output_type": "display_data",
          "data": {
            "image/png": "[encoded data removed]",
            "text/plain": [
              "<Figure size 432x288 with 1 Axes>"
            ]
          },
          "metadata": {
            "tags": []
          }
        }
      ]
    },
    {
      "cell_type": "markdown",
      "metadata": {
        "id": "gtIInVOSvmUd"
      },
      "source": [
        "medv- 0.18565449648035903- good on 3rd order\n",
        "\n",
        "zn- 0.04355351653217843 x\n",
        "\n",
        "indus- 0.19378704453302054\n",
        "\n",
        "chas- 0.008773299509816868 x\n",
        "\n",
        "nox- 0.28809034163200886\n",
        "\n",
        "rm- 0.0910490105447983\n",
        "\n",
        "age- 0.19649016717576728\n",
        "\n",
        "dis- 0.1994352733221444\n",
        "\n",
        "rad- 0.4546814158267519- ok ok on 3rd order\n",
        "\n",
        "tax- 0.3737295273509884\n",
        "\n",
        "ptratio- 0.08513137366544554x\n",
        "\n",
        "black- 0.2642906620375084\n",
        "\n",
        "lstat- 0.4058512950926014\n",
        "\n",
        "These are the r2 scores when these predictors were taken for lr individually and wether they might have a non linear cubic association is also indicated.\n",
        "\n",
        "b) Yes, we can reject the null hypothesis."
      ]
    }
  ]
}