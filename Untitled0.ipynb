{
  "nbformat": 4,
  "nbformat_minor": 0,
  "metadata": {
    "colab": {
      "name": "Untitled0.ipynb",
      "provenance": [],
      "collapsed_sections": []
    },
    "kernelspec": {
      "name": "python3",
      "display_name": "Python 3"
    }
  },
  "cells": [
    {
      "cell_type": "markdown",
      "metadata": {
        "id": "ySivcD1go0cM"
      },
      "source": [
        "ISLR CHAPTER 4 LABS IMPLEMENTATION"
      ]
    },
    {
      "cell_type": "code",
      "metadata": {
        "id": "a5Ev0-kzTltr"
      },
      "source": [
        "def summary(X, y, y_predict, lr):\n",
        "  from scipy import stats\n",
        "  from sklearn.metrics import r2_score \n",
        "  from sklearn.metrics import mean_squared_error\n",
        "\n",
        "  n = X.shape[0] \n",
        "  p = X.shape[1] \n",
        "  R2 = r2_score(y,y_predict) \n",
        "  adjusted_r2 = 1- (1-R2)*((n-1)/(n-p-1)) \n",
        "  RMSE = mean_squared_error(y,y_predict)**(1/2) \n",
        "  print(\"RMSE = \", RMSE) \n",
        "  print(\"R2 Score = \", R2)\n",
        "  print(\"Adjusted R2 =\" ,adjusted_r2) \n",
        "\n",
        "  weights = np.append(lr.intercept_,lr.coef_)\n",
        "\n",
        "  #newX = pd.DataFrame({\"Constant\":np.ones(len(X))}).join(pd.DataFrame(X))\n",
        "  #MSE = (mean_squared_error(y, y_predict_tot))/(len(newX)-len(newX.columns))\n",
        "\n",
        "  # Note if you don't want to use a DataFrame replace the two lines above with\n",
        "  newX = np.append(np.ones((len(X),1)), X, axis=1)\n",
        "  MSE = (sum((y-y_predict)**2))/(newX.shape[0]-newX.shape[1])\n",
        "\n",
        "\n",
        "  var_b = MSE*(np.linalg.pinv(np.dot(newX.T,newX)).diagonal())\n",
        "  sd_b = np.sqrt(var_b)\n",
        "  ts_b = weights/ sd_b\n",
        "\n",
        "  p_values =[2.0*(1.0-stats.t.cdf(np.abs(i),(newX.shape[0]-newX.shape[1]))) for i in ts_b]\n",
        "\n",
        "  sd_b = np.round(sd_b,3)\n",
        "  ts_b = np.round(ts_b,3)\n",
        "  p_values = np.round(p_values,100)\n",
        "  weights = np.round(weights,4)\n",
        "\n",
        "  myDF3 = pd.DataFrame()\n",
        "  myDF3[\"Coefficients\"],myDF3[\"Standard Errors\"],myDF3[\"t values\"],myDF3[\"Probabilities\"] = [weights,sd_b,ts_b,p_values]\n",
        "  print(myDF3)\n",
        "\n",
        "  interval_95 = pd.DataFrame(np.column_stack((weights-2*sd_b, weights+2*sd_b)), columns=['LowerBound', 'UpperBound'])\n",
        "  print('95 per intervals')\n",
        "  print(interval_95)\n",
        "  return"
      ],
      "execution_count": null,
      "outputs": []
    },
    {
      "cell_type": "code",
      "metadata": {
        "id": "CJVD-SX-o565",
        "colab": {
          "base_uri": "https://localhost:8080/",
          "height": 670
        },
        "outputId": "7e5ed2fd-c9f6-4090-aaa8-dedcbbeb6130"
      },
      "source": [
        "##SMARKET LOGISTIC REGRESSION\n",
        "\n",
        "from sklearn.datasets import load_iris\n",
        "from sklearn.linear_model import LogisticRegression\n",
        "import numpy as np\n",
        "import pandas as pd\n",
        "import sklearn.datasets as datasets\n",
        "import matplotlib.pyplot as plt\n",
        "import sklearn.preprocessing as preprocessing\n",
        "from sklearn.linear_model import LinearRegression\n",
        "from sklearn.model_selection import train_test_split\n",
        "from sklearn.metrics import r2_score\n",
        "from sklearn.metrics import mean_squared_error\n",
        "from sklearn.metrics import confusion_matrix\n",
        "from sklearn.metrics import plot_confusion_matrix\n",
        "\n",
        "df = pd.read_csv('https://raw.githubusercontent.com/mr-sarthakgupta/ISLR-EXERCISES-IMPLEMENTATION/main/Smarket%20train.csv')\n",
        "\n",
        "dk = pd.read_csv('https://raw.githubusercontent.com/mr-sarthakgupta/ISLR-EXERCISES-IMPLEMENTATION/main/Smarket%20test.csv')\n",
        "\n",
        "x1 = df[['Lag1','Lag2','Lag3','Lag4','Lag5','Volume','Today']]\n",
        "\n",
        "b = df[['Lag3','Lag4','Lag5','Volume','Today', 'Direction']]\n",
        "\n",
        "x2 = dk [['Lag1','Lag2','Lag3','Lag4','Lag5','Volume','Today']]\n",
        "\n",
        "y1 = df['Direction']\n",
        "\n",
        "y2 = dk['Direction']\n",
        "\n",
        "corr = b.corr()\n",
        "\n",
        "lor = LogisticRegression()\n",
        "\n",
        "print(corr)\n",
        "\n",
        "lor.fit(x1, y1)\n",
        "\n",
        "l = lor.predict(x2)\n",
        "\n",
        "print(lor.score(x2, y2))\n",
        "\n",
        "cm = confusion_matrix(y2, l)\n",
        "\n",
        "plot_confusion_matrix( lor, x2, y2)  \n",
        "plt.show()  \n",
        "\n",
        "lor.get_params()"
      ],
      "execution_count": 10,
      "outputs": [
        {
          "output_type": "stream",
          "text": [
            "               Lag3      Lag4      Lag5    Volume     Today  Direction\n",
            "Lag3       1.000000 -0.018963 -0.019002 -0.065891 -0.002139   0.006348\n",
            "Lag4      -0.018963  1.000000 -0.022055 -0.081399 -0.005078   0.005563\n",
            "Lag5      -0.019002 -0.022055  1.000000 -0.036721 -0.039608  -0.002019\n",
            "Volume    -0.065891 -0.081399 -0.036721  1.000000  0.004010  -0.016135\n",
            "Today     -0.002139 -0.005078 -0.039608  0.004010  1.000000   0.739378\n",
            "Direction  0.006348  0.005563 -0.002019 -0.016135  0.739378   1.000000\n",
            "0.9920634920634921\n"
          ],
          "name": "stdout"
        },
        {
          "output_type": "display_data",
          "data": {
            "image/png": "[encoded data removed]",
            "text/plain": [
              "<Figure size 432x288 with 2 Axes>"
            ]
          },
          "metadata": {
            "tags": [],
            "needs_background": "light"
          }
        },
        {
          "output_type": "execute_result",
          "data": {
            "text/plain": [
              "{'C': 1.0,\n",
              " 'class_weight': None,\n",
              " 'dual': False,\n",
              " 'fit_intercept': True,\n",
              " 'intercept_scaling': 1,\n",
              " 'l1_ratio': None,\n",
              " 'max_iter': 100,\n",
              " 'multi_class': 'auto',\n",
              " 'n_jobs': None,\n",
              " 'penalty': 'l2',\n",
              " 'random_state': None,\n",
              " 'solver': 'lbfgs',\n",
              " 'tol': 0.0001,\n",
              " 'verbose': 0,\n",
              " 'warm_start': False}"
            ]
          },
          "metadata": {
            "tags": []
          },
          "execution_count": 10
        }
      ]
    },
    {
      "cell_type": "code",
      "metadata": {
        "id": "FwSu7ro78jfE",
        "colab": {
          "base_uri": "https://localhost:8080/",
          "height": 517
        },
        "outputId": "b133bb4d-891d-445d-b934-b3413160405f"
      },
      "source": [
        "## SMARKET LDA\n",
        "\n",
        "from sklearn.datasets import load_iris\n",
        "from sklearn.linear_model import LogisticRegression\n",
        "import numpy as np\n",
        "import pandas as pd\n",
        "import sklearn.datasets as datasets\n",
        "import matplotlib.pyplot as plt\n",
        "import sklearn.preprocessing as preprocessing\n",
        "from sklearn.linear_model import LinearRegression\n",
        "from sklearn.model_selection import train_test_split\n",
        "from sklearn.metrics import r2_score\n",
        "from sklearn.metrics import mean_squared_error\n",
        "from sklearn.metrics import confusion_matrix\n",
        "from sklearn.metrics import plot_confusion_matrix\n",
        "from sklearn.discriminant_analysis import LinearDiscriminantAnalysis\n",
        "\n",
        "df = pd.read_csv('https://raw.githubusercontent.com/mr-sarthakgupta/ISLR-EXERCISES-IMPLEMENTATION/main/Smarket%20train.csv')\n",
        "\n",
        "dk = pd.read_csv('https://raw.githubusercontent.com/mr-sarthakgupta/ISLR-EXERCISES-IMPLEMENTATION/main/Smarket%20test.csv')\n",
        "\n",
        "x1 = df[['Lag1','Lag2','Lag3','Lag4','Lag5','Volume','Today']]\n",
        "\n",
        "b = df[['Lag3','Lag4','Lag5','Volume','Today', 'Direction']]\n",
        "\n",
        "x2 = dk [['Lag1','Lag2','Lag3','Lag4','Lag5','Volume','Today']]\n",
        "\n",
        "y1 = df['Direction']\n",
        "\n",
        "y2 = dk['Direction']\n",
        "\n",
        "corr = b.corr()\n",
        "\n",
        "lda = LinearDiscriminantAnalysis()\n",
        "\n",
        "print(corr)\n",
        "\n",
        "lda.fit(x1, y1)\n",
        "\n",
        "l = lda.predict(x2)\n",
        "\n",
        "print(lda.score(x2, y2))\n",
        "\n",
        "cm = confusion_matrix(y2, l)\n",
        "\n",
        "plot_confusion_matrix( lda, x2, y2)  \n",
        "plt.show()  \n",
        "\n",
        "lda.get_params()"
      ],
      "execution_count": 11,
      "outputs": [
        {
          "output_type": "stream",
          "text": [
            "               Lag3      Lag4      Lag5    Volume     Today  Direction\n",
            "Lag3       1.000000 -0.018963 -0.019002 -0.065891 -0.002139   0.006348\n",
            "Lag4      -0.018963  1.000000 -0.022055 -0.081399 -0.005078   0.005563\n",
            "Lag5      -0.019002 -0.022055  1.000000 -0.036721 -0.039608  -0.002019\n",
            "Volume    -0.065891 -0.081399 -0.036721  1.000000  0.004010  -0.016135\n",
            "Today     -0.002139 -0.005078 -0.039608  0.004010  1.000000   0.739378\n",
            "Direction  0.006348  0.005563 -0.002019 -0.016135  0.739378   1.000000\n",
            "0.9682539682539683\n"
          ],
          "name": "stdout"
        },
        {
          "output_type": "display_data",
          "data": {
            "image/png": "[encoded data removed]",
            "text/plain": [
              "<Figure size 432x288 with 2 Axes>"
            ]
          },
          "metadata": {
            "tags": [],
            "needs_background": "light"
          }
        },
        {
          "output_type": "execute_result",
          "data": {
            "text/plain": [
              "{'n_components': None,\n",
              " 'priors': None,\n",
              " 'shrinkage': None,\n",
              " 'solver': 'svd',\n",
              " 'store_covariance': False,\n",
              " 'tol': 0.0001}"
            ]
          },
          "metadata": {
            "tags": []
          },
          "execution_count": 11
        }
      ]
    },
    {
      "cell_type": "code",
      "metadata": {
        "colab": {
          "base_uri": "https://localhost:8080/",
          "height": 432
        },
        "id": "x-01-tmXfk7B",
        "outputId": "d9e37c2b-e56d-464f-ddfc-d4ddf4938940"
      },
      "source": [
        "## SMARKET QDA\n",
        "\n",
        "from sklearn.datasets import load_iris\n",
        "from sklearn.linear_model import LogisticRegression\n",
        "import numpy as np\n",
        "import pandas as pd\n",
        "import sklearn.datasets as datasets\n",
        "import matplotlib.pyplot as plt\n",
        "import sklearn.preprocessing as preprocessing\n",
        "from sklearn.linear_model import LinearRegression\n",
        "from sklearn.model_selection import train_test_split\n",
        "from sklearn.metrics import r2_score\n",
        "from sklearn.metrics import mean_squared_error\n",
        "from sklearn.metrics import confusion_matrix\n",
        "from sklearn.metrics import plot_confusion_matrix\n",
        "from sklearn.discriminant_analysis import LinearDiscriminantAnalysis\n",
        "from sklearn.discriminant_analysis import QuadraticDiscriminantAnalysis\n",
        "\n",
        "df = pd.read_csv('https://raw.githubusercontent.com/mr-sarthakgupta/ISLR-EXERCISES-IMPLEMENTATION/main/Smarket%20train.csv')\n",
        "\n",
        "dk = pd.read_csv('https://raw.githubusercontent.com/mr-sarthakgupta/ISLR-EXERCISES-IMPLEMENTATION/main/Smarket%20test.csv')\n",
        "\n",
        "x1 = df[['Lag1','Lag2','Lag3','Lag4','Lag5','Volume','Today']]\n",
        "\n",
        "b = df[['Lag3','Lag4','Lag5','Volume','Today', 'Direction']]\n",
        "\n",
        "x2 = dk [['Lag1','Lag2','Lag3','Lag4','Lag5','Volume','Today']]\n",
        "\n",
        "y1 = df['Direction']\n",
        "\n",
        "y2 = dk['Direction']\n",
        "\n",
        "corr = b.corr()\n",
        "\n",
        "qda = QuadraticDiscriminantAnalysis()\n",
        "\n",
        "print(corr)\n",
        "\n",
        "qda.fit(x1, y1)\n",
        "\n",
        "l = qda.predict(x2)\n",
        "\n",
        "print(qda.score(x2, y2))\n",
        "\n",
        "cm = confusion_matrix(y2, l)\n",
        "\n",
        "plot_confusion_matrix( qda, x2, y2)  \n",
        "plt.show()  \n",
        "\n",
        "qda.get_params()"
      ],
      "execution_count": 2,
      "outputs": [
        {
          "output_type": "stream",
          "text": [
            "               Lag3      Lag4      Lag5    Volume     Today  Direction\n",
            "Lag3       1.000000 -0.018963 -0.019002 -0.065891 -0.002139   0.006348\n",
            "Lag4      -0.018963  1.000000 -0.022055 -0.081399 -0.005078   0.005563\n",
            "Lag5      -0.019002 -0.022055  1.000000 -0.036721 -0.039608  -0.002019\n",
            "Volume    -0.065891 -0.081399 -0.036721  1.000000  0.004010  -0.016135\n",
            "Today     -0.002139 -0.005078 -0.039608  0.004010  1.000000   0.739378\n",
            "Direction  0.006348  0.005563 -0.002019 -0.016135  0.739378   1.000000\n",
            "0.9285714285714286\n"
          ],
          "name": "stdout"
        },
        {
          "output_type": "display_data",
          "data": {
            "image/png": "[encoded data removed]",
            "text/plain": [
              "<Figure size 432x288 with 2 Axes>"
            ]
          },
          "metadata": {
            "tags": [],
            "needs_background": "light"
          }
        },
        {
          "output_type": "execute_result",
          "data": {
            "text/plain": [
              "{'priors': None, 'reg_param': 0.0, 'store_covariance': False, 'tol': 0.0001}"
            ]
          },
          "metadata": {
            "tags": []
          },
          "execution_count": 2
        }
      ]
    },
    {
      "cell_type": "code",
      "metadata": {
        "colab": {
          "base_uri": "https://localhost:8080/",
          "height": 551
        },
        "id": "sszQiKIL84wu",
        "outputId": "91e44f8f-d79b-4453-b144-0516d191cafa"
      },
      "source": [
        "## SMARKET KNN\n",
        "\n",
        "from sklearn.datasets import load_iris\n",
        "from sklearn.linear_model import LogisticRegression\n",
        "import numpy as np\n",
        "import pandas as pd\n",
        "import sklearn.datasets as datasets\n",
        "import matplotlib.pyplot as plt\n",
        "import sklearn.preprocessing as preprocessing\n",
        "from sklearn.linear_model import LinearRegression\n",
        "from sklearn.model_selection import train_test_split\n",
        "from sklearn.metrics import r2_score\n",
        "from sklearn.metrics import mean_squared_error\n",
        "from sklearn.metrics import confusion_matrix\n",
        "from sklearn.metrics import plot_confusion_matrix\n",
        "from sklearn.discriminant_analysis import LinearDiscriminantAnalysis\n",
        "from sklearn.discriminant_analysis import QuadraticDiscriminantAnalysis\n",
        "from sklearn.neighbors import KNeighborsClassifier\n",
        "\n",
        "df = pd.read_csv('https://raw.githubusercontent.com/mr-sarthakgupta/ISLR-EXERCISES-IMPLEMENTATION/main/Smarket%20train.csv')\n",
        "\n",
        "dk = pd.read_csv('https://raw.githubusercontent.com/mr-sarthakgupta/ISLR-EXERCISES-IMPLEMENTATION/main/Smarket%20test.csv')\n",
        "\n",
        "x1 = df[['Lag1','Lag2','Lag3','Lag4','Lag5','Volume','Today']]\n",
        "\n",
        "b = df[['Lag3','Lag4','Lag5','Volume','Today', 'Direction']]\n",
        "\n",
        "x2 = dk [['Lag1','Lag2','Lag3','Lag4','Lag5','Volume','Today']]\n",
        "\n",
        "y1 = df['Direction']\n",
        "\n",
        "y2 = dk['Direction']\n",
        "\n",
        "corr = b.corr()\n",
        "\n",
        "knn = KNeighborsClassifier( n_neighbors = 100 )\n",
        "\n",
        "print(corr)\n",
        "\n",
        "knn.fit(x1, y1)\n",
        "\n",
        "l = knn.predict(x2)\n",
        "\n",
        "print(knn.score(x2, y2))\n",
        "\n",
        "cm = confusion_matrix(y2, l)\n",
        "\n",
        "plot_confusion_matrix( knn, x2, y2)  \n",
        "plt.show()  \n",
        "\n",
        "knn.get_params()"
      ],
      "execution_count": 15,
      "outputs": [
        {
          "output_type": "stream",
          "text": [
            "               Lag3      Lag4      Lag5    Volume     Today  Direction\n",
            "Lag3       1.000000 -0.018963 -0.019002 -0.065891 -0.002139   0.006348\n",
            "Lag4      -0.018963  1.000000 -0.022055 -0.081399 -0.005078   0.005563\n",
            "Lag5      -0.019002 -0.022055  1.000000 -0.036721 -0.039608  -0.002019\n",
            "Volume    -0.065891 -0.081399 -0.036721  1.000000  0.004010  -0.016135\n",
            "Today     -0.002139 -0.005078 -0.039608  0.004010  1.000000   0.739378\n",
            "Direction  0.006348  0.005563 -0.002019 -0.016135  0.739378   1.000000\n",
            "0.9444444444444444\n"
          ],
          "name": "stdout"
        },
        {
          "output_type": "display_data",
          "data": {
            "image/png": "[encoded data removed]",
            "text/plain": [
              "<Figure size 432x288 with 2 Axes>"
            ]
          },
          "metadata": {
            "tags": [],
            "needs_background": "light"
          }
        },
        {
          "output_type": "execute_result",
          "data": {
            "text/plain": [
              "{'algorithm': 'auto',\n",
              " 'leaf_size': 30,\n",
              " 'metric': 'minkowski',\n",
              " 'metric_params': None,\n",
              " 'n_jobs': None,\n",
              " 'n_neighbors': 100,\n",
              " 'p': 2,\n",
              " 'weights': 'uniform'}"
            ]
          },
          "metadata": {
            "tags": []
          },
          "execution_count": 15
        }
      ]
    },
    {
      "cell_type": "code",
      "metadata": {
        "colab": {
          "base_uri": "https://localhost:8080/",
          "height": 687
        },
        "id": "msJSlIMDFXmg",
        "outputId": "e31e3723-3b47-4744-9a25-945eaad05b67"
      },
      "source": [
        "##CARAVAN LOGISTIC REGRESSION\n",
        "\n",
        "from sklearn.datasets import load_iris\n",
        "from sklearn.linear_model import LogisticRegression\n",
        "import numpy as np\n",
        "import pandas as pd\n",
        "import sklearn.datasets as datasets\n",
        "import matplotlib.pyplot as plt\n",
        "import sklearn.preprocessing as preprocessing\n",
        "from sklearn.linear_model import LinearRegression\n",
        "from sklearn.model_selection import train_test_split\n",
        "from sklearn.metrics import r2_score\n",
        "from sklearn.metrics import mean_squared_error\n",
        "from sklearn.metrics import confusion_matrix\n",
        "from sklearn.metrics import plot_confusion_matrix\n",
        "\n",
        "df = pd.read_csv('https://raw.githubusercontent.com/mr-sarthakgupta/ISLR-EXERCISES-IMPLEMENTATION/main/Caravan.csv')\n",
        "\n",
        "x = df[['MOSTYPE','MAANTHUI','MGEMOMV','MGEMLEEF','MOSHOOFD','MGODRK','MGODPR','MGODOV','MGODGE','MRELGE','MRELSA','MRELOV','MFALLEEN','MFGEKIND','MFWEKIND','MOPLHOOG','MOPLMIDD','MOPLLAAG','MBERHOOG','MBERZELF','MBERBOER','MBERMIDD','MBERARBG','MBERARBO','MSKA','MSKB1','MSKB2','MSKC','MSKD','MHHUUR','MHKOOP','MAUT1','MAUT2','MAUT0','MZFONDS','MZPART','MINKM30','MINK3045','MINK4575','MINK7512','MINK123M','MINKGEM','MKOOPKLA','PWAPART','PWABEDR','PWALAND','PPERSAUT','PBESAUT','PMOTSCO','PVRAAUT','PAANHANG','PTRACTOR','PWERKT','PBROM','PLEVEN','PPERSONG','PGEZONG','PWAOREG','PBRAND','PZEILPL','PPLEZIER','PFIETS','PINBOED','PBYSTAND','AWAPART','AWABEDR','AWALAND','APERSAUT','ABESAUT','AMOTSCO','AVRAAUT','AAANHANG','ATRACTOR','AWERKT','ABROM','ALEVEN','APERSONG','AGEZONG','AWAOREG','ABRAND','AZEILPL','APLEZIER','AFIETS','AINBOED','ABYSTAND']]\n",
        "\n",
        "y = df['Purchase']\n",
        "\n",
        "lor = LogisticRegression()\n",
        "\n",
        "X_train, X_test, y_train, y_test = train_test_split(x, y, test_size=0.1, random_state=42)\n",
        "\n",
        "lor.fit(X_train, y_train)\n",
        "\n",
        "l = lor.predict(X_test)\n",
        "\n",
        "print(lor.score(X_test, y_test))\n",
        "\n",
        "cm = confusion_matrix(y_test, l)\n",
        "\n",
        "plot_confusion_matrix( lor, X_test, y_test)  \n",
        "plt.show()  \n",
        "\n",
        "lor.get_params()"
      ],
      "execution_count": 17,
      "outputs": [
        {
          "output_type": "stream",
          "text": [
            "0.9365351629502573\n"
          ],
          "name": "stdout"
        },
        {
          "output_type": "stream",
          "text": [
            "/usr/local/lib/python3.7/dist-packages/sklearn/linear_model/_logistic.py:940: ConvergenceWarning: lbfgs failed to converge (status=1):\n",
            "STOP: TOTAL NO. of ITERATIONS REACHED LIMIT.\n",
            "\n",
            "Increase the number of iterations (max_iter) or scale the data as shown in:\n",
            "    https://scikit-learn.org/stable/modules/preprocessing.html\n",
            "Please also refer to the documentation for alternative solver options:\n",
            "    https://scikit-learn.org/stable/modules/linear_model.html#logistic-regression\n",
            "  extra_warning_msg=_LOGISTIC_SOLVER_CONVERGENCE_MSG)\n"
          ],
          "name": "stderr"
        },
        {
          "output_type": "display_data",
          "data": {
            "image/png": "[encoded data removed]",
            "text/plain": [
              "<Figure size 432x288 with 2 Axes>"
            ]
          },
          "metadata": {
            "tags": [],
            "needs_background": "light"
          }
        },
        {
          "output_type": "execute_result",
          "data": {
            "text/plain": [
              "{'C': 1.0,\n",
              " 'class_weight': None,\n",
              " 'dual': False,\n",
              " 'fit_intercept': True,\n",
              " 'intercept_scaling': 1,\n",
              " 'l1_ratio': None,\n",
              " 'max_iter': 100,\n",
              " 'multi_class': 'auto',\n",
              " 'n_jobs': None,\n",
              " 'penalty': 'l2',\n",
              " 'random_state': None,\n",
              " 'solver': 'lbfgs',\n",
              " 'tol': 0.0001,\n",
              " 'verbose': 0,\n",
              " 'warm_start': False}"
            ]
          },
          "metadata": {
            "tags": []
          },
          "execution_count": 17
        }
      ]
    },
    {
      "cell_type": "code",
      "metadata": {
        "colab": {
          "base_uri": "https://localhost:8080/",
          "height": 432
        },
        "id": "BCaWJuUHSD6-",
        "outputId": "c3944e33-b9d2-4c59-8c80-f93fe384abfd"
      },
      "source": [
        "##CARAVAN KNN\n",
        "\n",
        "from sklearn.datasets import load_iris\n",
        "from sklearn.linear_model import LogisticRegression\n",
        "import numpy as np\n",
        "import pandas as pd\n",
        "import sklearn.datasets as datasets\n",
        "import matplotlib.pyplot as plt\n",
        "import sklearn.preprocessing as preprocessing\n",
        "from sklearn.linear_model import LinearRegression\n",
        "from sklearn.model_selection import train_test_split\n",
        "from sklearn.metrics import r2_score\n",
        "from sklearn.metrics import mean_squared_error\n",
        "from sklearn.metrics import confusion_matrix\n",
        "from sklearn.metrics import plot_confusion_matrix\n",
        "\n",
        "df = pd.read_csv('https://raw.githubusercontent.com/mr-sarthakgupta/ISLR-EXERCISES-IMPLEMENTATION/main/Caravan.csv')\n",
        "\n",
        "x = df[['MOSTYPE','MAANTHUI','MGEMOMV','MGEMLEEF','MOSHOOFD','MGODRK','MGODPR','MGODOV','MGODGE','MRELGE','MRELSA','MRELOV','MFALLEEN','MFGEKIND','MFWEKIND','MOPLHOOG','MOPLMIDD','MOPLLAAG','MBERHOOG','MBERZELF','MBERBOER','MBERMIDD','MBERARBG','MBERARBO','MSKA','MSKB1','MSKB2','MSKC','MSKD','MHHUUR','MHKOOP','MAUT1','MAUT2','MAUT0','MZFONDS','MZPART','MINKM30','MINK3045','MINK4575','MINK7512','MINK123M','MINKGEM','MKOOPKLA','PWAPART','PWABEDR','PWALAND','PPERSAUT','PBESAUT','PMOTSCO','PVRAAUT','PAANHANG','PTRACTOR','PWERKT','PBROM','PLEVEN','PPERSONG','PGEZONG','PWAOREG','PBRAND','PZEILPL','PPLEZIER','PFIETS','PINBOED','PBYSTAND','AWAPART','AWABEDR','AWALAND','APERSAUT','ABESAUT','AMOTSCO','AVRAAUT','AAANHANG','ATRACTOR','AWERKT','ABROM','ALEVEN','APERSONG','AGEZONG','AWAOREG','ABRAND','AZEILPL','APLEZIER','AFIETS','AINBOED','ABYSTAND']]\n",
        "\n",
        "y = df['Purchase']\n",
        "\n",
        "knn = KNeighborsClassifier( n_neighbors = 100 )\n",
        "\n",
        "knn.fit(x, y)\n",
        "\n",
        "l = knn.predict(x)\n",
        "\n",
        "print(knn.score(x, y))\n",
        "\n",
        "cm = confusion_matrix(y, l)\n",
        "\n",
        "plot_confusion_matrix( knn, x, y)  \n",
        "plt.show()  \n",
        "\n",
        "knn.get_params()"
      ],
      "execution_count": 18,
      "outputs": [
        {
          "output_type": "stream",
          "text": [
            "0.9402267262109241\n"
          ],
          "name": "stdout"
        },
        {
          "output_type": "display_data",
          "data": {
            "image/png": "[encoded data removed]",
            "text/plain": [
              "<Figure size 432x288 with 2 Axes>"
            ]
          },
          "metadata": {
            "tags": [],
            "needs_background": "light"
          }
        },
        {
          "output_type": "execute_result",
          "data": {
            "text/plain": [
              "{'algorithm': 'auto',\n",
              " 'leaf_size': 30,\n",
              " 'metric': 'minkowski',\n",
              " 'metric_params': None,\n",
              " 'n_jobs': None,\n",
              " 'n_neighbors': 100,\n",
              " 'p': 2,\n",
              " 'weights': 'uniform'}"
            ]
          },
          "metadata": {
            "tags": []
          },
          "execution_count": 18
        }
      ]
    }
  ]
}